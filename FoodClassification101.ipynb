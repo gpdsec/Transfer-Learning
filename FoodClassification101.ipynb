{
  "nbformat": 4,
  "nbformat_minor": 0,
  "metadata": {
    "accelerator": "GPU",
    "colab": {
      "name": "FoodClassification101.ipynb",
      "provenance": [],
      "collapsed_sections": [],
      "include_colab_link": true
    },
    "kernelspec": {
      "display_name": "Python 3",
      "name": "python3"
    },
    "language_info": {
      "name": "python"
    }
  },
  "cells": [
    {
      "cell_type": "markdown",
      "metadata": {
        "id": "view-in-github",
        "colab_type": "text"
      },
      "source": [
        "<a href=\"https://colab.research.google.com/github/gpdsec/Transfer-Learning/blob/main/FoodClassification101.ipynb\" target=\"_parent\"><img src=\"https://colab.research.google.com/assets/colab-badge.svg\" alt=\"Open In Colab\"/></a>"
      ]
    },
    {
      "cell_type": "code",
      "metadata": {
        "id": "L6Wp1nCeQC-a",
        "colab": {
          "base_uri": "https://localhost:8080/"
        },
        "outputId": "3bf94e09-ebdd-4043-9a5c-3282eb0f6521"
      },
      "source": [
        "!nvidia-smi -L"
      ],
      "execution_count": 1,
      "outputs": [
        {
          "output_type": "stream",
          "text": [
            "GPU 0: Tesla T4 (UUID: GPU-889b888f-4bc4-5623-d0cf-192077a774ff)\n"
          ],
          "name": "stdout"
        }
      ]
    },
    {
      "cell_type": "markdown",
      "metadata": {
        "id": "XQNvzNcqQPvV"
      },
      "source": [
        "# Importing Libraries"
      ]
    },
    {
      "cell_type": "code",
      "metadata": {
        "id": "Vicqnv87QYeO"
      },
      "source": [
        "import tensorflow as tf\n",
        "from tensorflow.keras.layers import Dense, Softmax, Input, GlobalAveragePooling2D\n",
        "from tensorflow.keras import mixed_precision, Sequential, layers, Model\n",
        "from tensorflow.keras.applications import InceptionV3\n",
        "from tensorflow.keras.callbacks import TensorBoard, EarlyStopping, ModelCheckpoint, LearningRateScheduler\n",
        "from tensorflow.keras.optimizers import Adam, SGD\n",
        "from tensorflow.keras.layers.experimental import preprocessing\n",
        "import numpy as np\n",
        "import pandas as pd\n",
        "import matplotlib.pyplot as plt\n",
        "import seaborn as sbn\n",
        "import tensorflow_datasets as tfds\n",
        "from tqdm.notebook import tqdm\n",
        "import datetime\n",
        "%load_ext tensorboard"
      ],
      "execution_count": 2,
      "outputs": []
    },
    {
      "cell_type": "markdown",
      "metadata": {
        "id": "SZ7f26cCQr3q"
      },
      "source": [
        "# Loading Data from TFDS"
      ]
    },
    {
      "cell_type": "code",
      "metadata": {
        "id": "Q7dyuYG9QqlG"
      },
      "source": [
        "(train_ds, test_ds), info = tfds.load('food101',\n",
        "                                      split=['train', 'validation'],\n",
        "                                      with_info=True,\n",
        "                                      as_supervised=True)"
      ],
      "execution_count": 3,
      "outputs": []
    },
    {
      "cell_type": "code",
      "metadata": {
        "colab": {
          "base_uri": "https://localhost:8080/"
        },
        "id": "y-KeDAUxQkIf",
        "outputId": "f797af58-afd8-4b33-ed31-06b4e2a04f93"
      },
      "source": [
        "info"
      ],
      "execution_count": 4,
      "outputs": [
        {
          "output_type": "execute_result",
          "data": {
            "text/plain": [
              "tfds.core.DatasetInfo(\n",
              "    name='food101',\n",
              "    version=2.0.0,\n",
              "    description='This dataset consists of 101 food categories, with 101'000 images. For each class, 250 manually reviewed test images are provided as well as 750 training images. On purpose, the training images were not cleaned, and thus still contain some amount of noise. This comes mostly in the form of intense colors and sometimes wrong labels. All images were rescaled to have a maximum side length of 512 pixels.',\n",
              "    homepage='https://www.vision.ee.ethz.ch/datasets_extra/food-101/',\n",
              "    features=FeaturesDict({\n",
              "        'image': Image(shape=(None, None, 3), dtype=tf.uint8),\n",
              "        'label': ClassLabel(shape=(), dtype=tf.int64, num_classes=101),\n",
              "    }),\n",
              "    total_num_examples=101000,\n",
              "    splits={\n",
              "        'train': 75750,\n",
              "        'validation': 25250,\n",
              "    },\n",
              "    supervised_keys=('image', 'label'),\n",
              "    citation=\"\"\"@inproceedings{bossard14,\n",
              "      title = {Food-101 -- Mining Discriminative Components with Random Forests},\n",
              "      author = {Bossard, Lukas and Guillaumin, Matthieu and Van Gool, Luc},\n",
              "      booktitle = {European Conference on Computer Vision},\n",
              "      year = {2014}\n",
              "    }\"\"\",\n",
              "    redistribution_info=,\n",
              ")"
            ]
          },
          "metadata": {
            "tags": []
          },
          "execution_count": 4
        }
      ]
    },
    {
      "cell_type": "code",
      "metadata": {
        "colab": {
          "base_uri": "https://localhost:8080/"
        },
        "id": "Tb_AwGxfSWk5",
        "outputId": "1679cbc9-d11b-4bc7-fd7f-f5a70e076426"
      },
      "source": [
        "info.features"
      ],
      "execution_count": 5,
      "outputs": [
        {
          "output_type": "execute_result",
          "data": {
            "text/plain": [
              "FeaturesDict({\n",
              "    'image': Image(shape=(None, None, 3), dtype=tf.uint8),\n",
              "    'label': ClassLabel(shape=(), dtype=tf.int64, num_classes=101),\n",
              "})"
            ]
          },
          "metadata": {
            "tags": []
          },
          "execution_count": 5
        }
      ]
    },
    {
      "cell_type": "code",
      "metadata": {
        "id": "NDg1KTCGVCYu"
      },
      "source": [
        "classLabels = info.features[\"label\"].names"
      ],
      "execution_count": 6,
      "outputs": []
    },
    {
      "cell_type": "code",
      "metadata": {
        "colab": {
          "base_uri": "https://localhost:8080/"
        },
        "id": "5l-rO7w4VeAW",
        "outputId": "f3557d64-3661-49b4-f967-585c8bc00811"
      },
      "source": [
        "classLabels[:5]"
      ],
      "execution_count": 7,
      "outputs": [
        {
          "output_type": "execute_result",
          "data": {
            "text/plain": [
              "['apple_pie', 'baby_back_ribs', 'baklava', 'beef_carpaccio', 'beef_tartare']"
            ]
          },
          "metadata": {
            "tags": []
          },
          "execution_count": 7
        }
      ]
    },
    {
      "cell_type": "code",
      "metadata": {
        "id": "zwM16Dk8WeDA"
      },
      "source": [
        "for image, label in train_ds.take(1):\n",
        "  break"
      ],
      "execution_count": 8,
      "outputs": []
    },
    {
      "cell_type": "code",
      "metadata": {
        "colab": {
          "base_uri": "https://localhost:8080/",
          "height": 1000
        },
        "id": "xEUHHVl8W3RK",
        "outputId": "65226909-98df-4632-ccdd-5641f2518636"
      },
      "source": [
        "print(f\"image dtype {image.dtype}\")\n",
        "print(f\"raw image shape {image.shape}\")\n",
        "print(image)\n",
        "print(\"image\")\n",
        "plt.imshow(image)"
      ],
      "execution_count": 9,
      "outputs": [
        {
          "output_type": "stream",
          "text": [
            "image dtype <dtype: 'uint8'>\n",
            "raw image shape (512, 512, 3)\n",
            "tf.Tensor(\n",
            "[[[233 253 251]\n",
            "  [231 253 250]\n",
            "  [228 254 251]\n",
            "  ...\n",
            "  [ 85  82  89]\n",
            "  [ 68  67  75]\n",
            "  [ 57  57  67]]\n",
            "\n",
            " [[232 254 252]\n",
            "  [229 254 251]\n",
            "  [226 255 251]\n",
            "  ...\n",
            "  [121 116 120]\n",
            "  [100  99 104]\n",
            "  [ 86  85  91]]\n",
            "\n",
            " [[228 254 253]\n",
            "  [226 255 253]\n",
            "  [223 255 252]\n",
            "  ...\n",
            "  [164 159 155]\n",
            "  [145 141 138]\n",
            "  [128 127 125]]\n",
            "\n",
            " ...\n",
            "\n",
            " [[ 66 112 164]\n",
            "  [ 67 113 163]\n",
            "  [ 55  99 148]\n",
            "  ...\n",
            "  [  5  14  23]\n",
            "  [  9  18  27]\n",
            "  [  8  17  26]]\n",
            "\n",
            " [[ 76 123 177]\n",
            "  [ 75 122 176]\n",
            "  [ 70 116 168]\n",
            "  ...\n",
            "  [  5  14  23]\n",
            "  [  9  18  25]\n",
            "  [  7  16  23]]\n",
            "\n",
            " [[ 80 129 185]\n",
            "  [ 71 121 174]\n",
            "  [ 74 121 175]\n",
            "  ...\n",
            "  [  7  16  25]\n",
            "  [ 11  20  27]\n",
            "  [ 10  19  26]]], shape=(512, 512, 3), dtype=uint8)\n",
            "image\n"
          ],
          "name": "stdout"
        },
        {
          "output_type": "execute_result",
          "data": {
            "text/plain": [
              "<matplotlib.image.AxesImage at 0x7f67f0060550>"
            ]
          },
          "metadata": {
            "tags": []
          },
          "execution_count": 9
        },
        {
          "output_type": "display_data",
          "data": {
            "image/png": "[encoded data removed]",
            "text/plain": [
              "<Figure size 432x288 with 1 Axes>"
            ]
          },
          "metadata": {
            "tags": [],
            "needs_background": "light"
          }
        }
      ]
    },
    {
      "cell_type": "markdown",
      "metadata": {
        "id": "c0yeFjhnR2IQ"
      },
      "source": [
        "# Helpfull functions"
      ]
    },
    {
      "cell_type": "code",
      "metadata": {
        "id": "tmeBlENOR-uI"
      },
      "source": [
        "\n",
        "\n",
        "# Data augmentation layer\n",
        "augmentation=Sequential([\n",
        "                         #tf.keras.layers.InputLayer(),\n",
        "                         layers.experimental.preprocessing.RandomFlip(\"horizontal_and_vertical\"),\n",
        "                         layers.experimental.preprocessing.RandomRotation(0.2),])\n",
        "\n",
        "# augment function\n",
        "def augment(image_batch, label_batch):\n",
        "  #image_batch = preprocessing.Rescaling(1./255)(image_batch)\n",
        "  image_batch = augmentation(image_batch, training=True)\n",
        "  \n",
        "  return image_batch, label_batch\n",
        "\n",
        "# Map Funtion\n",
        "def map_funct(image, label):\n",
        "  \n",
        "  image = tf.image.resize_with_pad(image, 224, 224)\n",
        "  #image = tf.cast(image, tf.float32)\n",
        "  image = tf.image.convert_image_dtype(image, tf.float32)\n",
        "  \n",
        "  return image, label"
      ],
      "execution_count": 10,
      "outputs": []
    },
    {
      "cell_type": "code",
      "metadata": {
        "id": "msuOv74G7Rlw"
      },
      "source": [
        "\n"
      ],
      "execution_count": 10,
      "outputs": []
    },
    {
      "cell_type": "markdown",
      "metadata": {
        "id": "lSlZOo1BTwcs"
      },
      "source": [
        "# Data Pipeline"
      ]
    },
    {
      "cell_type": "code",
      "metadata": {
        "id": "gZnwqh2O7g3f"
      },
      "source": [
        "# Important variables\n",
        "batch_size = 32\n",
        "shape = (224, 224, 3)"
      ],
      "execution_count": 11,
      "outputs": []
    },
    {
      "cell_type": "code",
      "metadata": {
        "id": "a093deabScCK"
      },
      "source": [
        "# Train DataSet\n",
        "train_dataset = train_ds.map(map_func=map_funct, num_parallel_calls=tf.data.AUTOTUNE)\n",
        "train_dataset = train_dataset.shuffle(1000).batch(batch_size).prefetch(buffer_size=tf.data.AUTOTUNE)\n",
        "train_dataset = train_dataset.map(augment, num_parallel_calls=tf.data.AUTOTUNE)\n",
        "\n",
        "# Test Dataset\n",
        "test_dataset = test_ds.map(map_func=map_funct, num_parallel_calls=tf.data.AUTOTUNE)\n",
        "test_dataset = test_dataset.shuffle(1000).batch(batch_size).prefetch(buffer_size=tf.data.AUTOTUNE)"
      ],
      "execution_count": 12,
      "outputs": []
    },
    {
      "cell_type": "code",
      "metadata": {
        "colab": {
          "base_uri": "https://localhost:8080/",
          "height": 1000
        },
        "id": "c13Ld0XA7klf",
        "outputId": "542e9615-be16-438a-f967-a6e36de06ddf"
      },
      "source": [
        "for images, labels in train_dataset.take(1):\n",
        "  for image in images:\n",
        "    print(f\"image shape {image.shape}\")\n",
        "    print(f\"image dtype {image.dtype}\")\n",
        "    print(f\"image {image}\")\n",
        "    plt.imshow(image)\n",
        "    break"
      ],
      "execution_count": 13,
      "outputs": [
        {
          "output_type": "stream",
          "text": [
            "WARNING:matplotlib.image:Clipping input data to the valid range for imshow with RGB data ([0..1] for floats or [0..255] for integers).\n"
          ],
          "name": "stderr"
        },
        {
          "output_type": "stream",
          "text": [
            "image shape (224, 224, 3)\n",
            "image dtype <dtype: 'float32'>\n",
            "image [[[223.33002  230.19714  247.795   ]\n",
            "  [219.17857  222.64302  242.59517 ]\n",
            "  [213.46394  212.57718  231.47275 ]\n",
            "  ...\n",
            "  [177.29282  194.81679  194.77852 ]\n",
            "  [179.95699  196.40923  199.22006 ]\n",
            "  [183.16386  199.99855  205.1738  ]]\n",
            "\n",
            " [[225.38237  231.63377  247.771   ]\n",
            "  [221.78687  224.70946  242.36655 ]\n",
            "  [217.64789  216.35863  233.15538 ]\n",
            "  ...\n",
            "  [180.35999  199.25034  202.21152 ]\n",
            "  [182.79874  200.56056  205.19992 ]\n",
            "  [186.59953  204.62766  210.64983 ]]\n",
            "\n",
            " [[229.30121  234.7555   248.51726 ]\n",
            "  [225.38457  227.77426  241.95131 ]\n",
            "  [221.82228  221.07088  235.0706  ]\n",
            "  ...\n",
            "  [184.28003  203.37173  208.07292 ]\n",
            "  [186.85748  205.25046  211.19896 ]\n",
            "  [189.19487  208.16864  216.63162 ]]\n",
            "\n",
            " ...\n",
            "\n",
            " [[234.41052  241.78455  248.31914 ]\n",
            "  [232.49619  242.4999   249.29788 ]\n",
            "  [230.13718  240.45514  248.15497 ]\n",
            "  ...\n",
            "  [131.29988  127.16772  109.480644]\n",
            "  [127.34837  123.26646  108.57926 ]\n",
            "  [132.17178  129.29822  113.344215]]\n",
            "\n",
            " [[234.97182  244.3607   250.93901 ]\n",
            "  [233.78421  242.79735  249.83928 ]\n",
            "  [233.5817   239.58955  248.29318 ]\n",
            "  ...\n",
            "  [135.10362  131.28732  116.3509  ]\n",
            "  [136.63535  135.40189  122.11123 ]\n",
            "  [137.21753  138.93695  124.88795 ]]\n",
            "\n",
            " [[235.42957  244.75604  250.13007 ]\n",
            "  [235.83565  241.10161  249.32478 ]\n",
            "  [235.84177  238.45192  247.24294 ]\n",
            "  ...\n",
            "  [142.2818   142.24026  132.82936 ]\n",
            "  [141.10648  142.10648  134.45276 ]\n",
            "  [142.73462  144.37566  134.88213 ]]]\n"
          ],
          "name": "stdout"
        },
        {
          "output_type": "display_data",
          "data": {
            "image/png": "[encoded data removed]",
            "text/plain": [
              "<Figure size 432x288 with 1 Axes>"
            ]
          },
          "metadata": {
            "tags": [],
            "needs_background": "light"
          }
        }
      ]
    },
    {
      "cell_type": "markdown",
      "metadata": {
        "id": "bKrW9qYy9XaT"
      },
      "source": [
        "# Setting Callback"
      ]
    },
    {
      "cell_type": "code",
      "metadata": {
        "id": "_Cd5FMcd9Wg7"
      },
      "source": [
        "es = EarlyStopping(monitor='val_loss', patience=3, mode='min')\n",
        "filepath='/content/drive/MyDrive/model/food101.h5'\n",
        "md = ModelCheckpoint(filepath, monitor='val_loss', \n",
        "verbose=1, save_best_only=True, save_weights_only=False, mode='min')\n",
        "\n",
        "log_dir = \"logs/fit/\" + datetime.datetime.now().strftime(\"%Y%m%d-%H%M%S\")\n",
        "tb = TensorBoard(log_dir=log_dir, histogram_freq=1)\n",
        "def scheduler(epoch):\n",
        "  lr = 0.0002\n",
        "  if epoch < 10:\n",
        "    return 0.0002\n",
        "  else:\n",
        "    return 0.0001 * tf.math.exp(-0.1)\n",
        "\n",
        "lrs = LearningRateScheduler(scheduler)\n",
        "\n",
        "sgd = SGD(learning_rate=0.01)\n",
        "adam = Adam(learning_rate=0.0001)"
      ],
      "execution_count": 14,
      "outputs": []
    },
    {
      "cell_type": "markdown",
      "metadata": {
        "id": "3iblqnNbCVVL"
      },
      "source": [
        "# functions for custom training loop"
      ]
    },
    {
      "cell_type": "markdown",
      "metadata": {
        "id": "1ZHw2xDwCUEj"
      },
      "source": [
        "# optimizer to train the model.\n",
        "optimizer = tf.keras.optimizers.Adam()\n",
        "# loss function.\n",
        "loss_fn = tf.keras.losses.SparseCategoricalCrossentropy(from_logits=False)\n",
        "\n",
        "# metrics.\n",
        "train_acc_metric = tf.keras.metrics.SparseCategoricalAccuracy(name='train_accuracy')\n",
        "val_acc_metric = tf.keras.metrics.SparseCategoricalAccuracy(name='val_accuracy')\n",
        "\n",
        "@tf.function\n",
        "def train_step(images, labels):\n",
        "    with tf.GradientTape() as tape:\n",
        "        logits = model(images, training=True)\n",
        "        loss_value = loss_fn(labels, logits)\n",
        "    grads = tape.gradient(loss_value, model.trainable_weights)\n",
        "    optimizer.apply_gradients(zip(grads, model.trainable_weights))\n",
        "    train_acc_metric.update_state(labels, logits)\n",
        "    return loss_value\n",
        "\n",
        "\n",
        "@tf.function\n",
        "def test_step(images, labels):\n",
        "    val_logits = model(x, training=False)\n",
        "    val_acc_metric.update_state(labels, val_logits)"
      ]
    },
    {
      "cell_type": "markdown",
      "metadata": {
        "id": "Aiax5sr8HB0i"
      },
      "source": [
        "# Buildind Model"
      ]
    },
    {
      "cell_type": "code",
      "metadata": {
        "colab": {
          "base_uri": "https://localhost:8080/"
        },
        "id": "jTO0vMHJHGpC",
        "outputId": "844b4549-3f88-4740-92fd-61658ee2ead5"
      },
      "source": [
        "# Turn on mixed precision training\n",
        "mixed_precision.set_global_policy(policy=\"mixed_float16\")\n",
        "mixed_precision.global_policy()"
      ],
      "execution_count": 15,
      "outputs": [
        {
          "output_type": "stream",
          "text": [
            "INFO:tensorflow:Mixed precision compatibility check (mixed_float16): OK\n",
            "Your GPU will likely run quickly with dtype policy mixed_float16 as it has compute capability of at least 7.0. Your GPU: Tesla T4, compute capability 7.5\n"
          ],
          "name": "stdout"
        },
        {
          "output_type": "stream",
          "text": [
            "INFO:tensorflow:Mixed precision compatibility check (mixed_float16): OK\n",
            "Your GPU will likely run quickly with dtype policy mixed_float16 as it has compute capability of at least 7.0. Your GPU: Tesla T4, compute capability 7.5\n"
          ],
          "name": "stderr"
        },
        {
          "output_type": "execute_result",
          "data": {
            "text/plain": [
              "<Policy \"mixed_float16\">"
            ]
          },
          "metadata": {
            "tags": []
          },
          "execution_count": 15
        }
      ]
    },
    {
      "cell_type": "code",
      "metadata": {
        "id": "BphUuBY9HOCy"
      },
      "source": [
        ""
      ],
      "execution_count": 15,
      "outputs": []
    },
    {
      "cell_type": "code",
      "metadata": {
        "colab": {
          "base_uri": "https://localhost:8080/"
        },
        "id": "ESezjBl9HkH0",
        "outputId": "c840e61f-caa5-42da-8037-16988b43a194"
      },
      "source": [
        "# seting up base model\n",
        "base_model = tf.keras.applications.ResNet50(include_top=False, weights=\"imagenet\")\n",
        "base_model.trainable = False\n",
        "# building model architecture\n",
        "\n",
        "input = Input(shape=shape, name=\"input\")\n",
        "#x = preprocessing.Rescaling(1./255)(i)\n",
        "x = tf.keras.applications.resnet.preprocess_input(input)\n",
        "x = base_model(x, training=False)\n",
        "x = GlobalAveragePooling2D(name=\"pooling\")(x)\n",
        "x = Dense(101)(x)\n",
        "outputs = layers.Activation(\"softmax\", dtype=tf.float32, name=\"predictions\")(x) \n",
        "model = Model(input, outputs)\n",
        "\n",
        "# Compile the model\n",
        "model.compile(loss=\"sparse_categorical_crossentropy\",\n",
        "              optimizer=adam,\n",
        "              metrics=[\"accuracy\"])\n",
        "model.summary()"
      ],
      "execution_count": 16,
      "outputs": [
        {
          "output_type": "stream",
          "text": [
            "Model: \"model\"\n",
            "_________________________________________________________________\n",
            "Layer (type)                 Output Shape              Param #   \n",
            "=================================================================\n",
            "input (InputLayer)           [(None, 224, 224, 3)]     0         \n",
            "_________________________________________________________________\n",
            "tf.__operators__.getitem (Sl (None, 224, 224, 3)       0         \n",
            "_________________________________________________________________\n",
            "tf.nn.bias_add (TFOpLambda)  (None, 224, 224, 3)       0         \n",
            "_________________________________________________________________\n",
            "resnet50 (Functional)        (None, None, None, 2048)  23587712  \n",
            "_________________________________________________________________\n",
            "pooling (GlobalAveragePoolin (None, 2048)              0         \n",
            "_________________________________________________________________\n",
            "dense (Dense)                (None, 101)               206949    \n",
            "_________________________________________________________________\n",
            "predictions (Activation)     (None, 101)               0         \n",
            "=================================================================\n",
            "Total params: 23,794,661\n",
            "Trainable params: 206,949\n",
            "Non-trainable params: 23,587,712\n",
            "_________________________________________________________________\n"
          ],
          "name": "stdout"
        }
      ]
    },
    {
      "cell_type": "code",
      "metadata": {
        "id": "xaFU58bAg8zI"
      },
      "source": [
        "rm -rf ./logs"
      ],
      "execution_count": 17,
      "outputs": []
    },
    {
      "cell_type": "code",
      "metadata": {
        "id": "pkN93uD7HyhL",
        "colab": {
          "base_uri": "https://localhost:8080/"
        },
        "outputId": "bad6a4c9-2ae2-4cba-f191-0f71abe87062"
      },
      "source": [
        "model_history = model.fit(train_dataset,\n",
        "                            epochs=16,  \n",
        "                            verbose=1, \n",
        "                            callbacks=[tb, md, es],\n",
        "                            steps_per_epoch=len(train_dataset), \n",
        "                            validation_data=test_dataset, \n",
        "                            validation_steps=(0.2*len(test_dataset)))"
      ],
      "execution_count": 18,
      "outputs": [
        {
          "output_type": "stream",
          "text": [
            "/usr/local/lib/python3.7/dist-packages/tensorflow/python/keras/utils/generic_utils.py:497: CustomMaskWarning: Custom mask layers require a config and must override get_config. When loading, the custom mask layer must be passed to the custom_objects argument.\n",
            "  category=CustomMaskWarning)\n"
          ],
          "name": "stderr"
        },
        {
          "output_type": "stream",
          "text": [
            "Epoch 1/16\n",
            "2368/2368 [==============================] - 586s 233ms/step - loss: 3.0962 - accuracy: 0.2951 - val_loss: 2.0730 - val_accuracy: 0.4891\n",
            "\n",
            "Epoch 00001: val_loss improved from inf to 2.07298, saving model to /content/drive/MyDrive/model/food101.h5\n",
            "Epoch 2/16\n",
            "2368/2368 [==============================] - 531s 223ms/step - loss: 2.2105 - accuracy: 0.4660 - val_loss: 1.7494 - val_accuracy: 0.5589\n",
            "\n",
            "Epoch 00002: val_loss improved from 2.07298 to 1.74944, saving model to /content/drive/MyDrive/model/food101.h5\n",
            "Epoch 3/16\n",
            "2368/2368 [==============================] - 523s 220ms/step - loss: 1.9980 - accuracy: 0.5053 - val_loss: 1.6046 - val_accuracy: 0.5856\n",
            "\n",
            "Epoch 00003: val_loss improved from 1.74944 to 1.60456, saving model to /content/drive/MyDrive/model/food101.h5\n",
            "Epoch 4/16\n",
            "2368/2368 [==============================] - 521s 219ms/step - loss: 1.8804 - accuracy: 0.5319 - val_loss: 1.5188 - val_accuracy: 0.6046\n",
            "\n",
            "Epoch 00004: val_loss improved from 1.60456 to 1.51882, saving model to /content/drive/MyDrive/model/food101.h5\n",
            "Epoch 5/16\n",
            "2368/2368 [==============================] - 524s 220ms/step - loss: 1.8006 - accuracy: 0.5483 - val_loss: 1.4826 - val_accuracy: 0.6102\n",
            "\n",
            "Epoch 00005: val_loss improved from 1.51882 to 1.48265, saving model to /content/drive/MyDrive/model/food101.h5\n",
            "Epoch 6/16\n",
            "2368/2368 [==============================] - 522s 220ms/step - loss: 1.7396 - accuracy: 0.5643 - val_loss: 1.4448 - val_accuracy: 0.6193\n",
            "\n",
            "Epoch 00006: val_loss improved from 1.48265 to 1.44481, saving model to /content/drive/MyDrive/model/food101.h5\n",
            "Epoch 7/16\n",
            "2368/2368 [==============================] - 533s 224ms/step - loss: 1.6960 - accuracy: 0.5739 - val_loss: 1.4197 - val_accuracy: 0.6195\n",
            "\n",
            "Epoch 00007: val_loss improved from 1.44481 to 1.41971, saving model to /content/drive/MyDrive/model/food101.h5\n",
            "Epoch 8/16\n",
            "2368/2368 [==============================] - 529s 223ms/step - loss: 1.6493 - accuracy: 0.5829 - val_loss: 1.3899 - val_accuracy: 0.6268\n",
            "\n",
            "Epoch 00008: val_loss improved from 1.41971 to 1.38991, saving model to /content/drive/MyDrive/model/food101.h5\n",
            "Epoch 9/16\n",
            "2368/2368 [==============================] - 530s 223ms/step - loss: 1.6166 - accuracy: 0.5898 - val_loss: 1.3810 - val_accuracy: 0.6307\n",
            "\n",
            "Epoch 00009: val_loss improved from 1.38991 to 1.38096, saving model to /content/drive/MyDrive/model/food101.h5\n",
            "Epoch 10/16\n",
            "2368/2368 [==============================] - 524s 220ms/step - loss: 1.5872 - accuracy: 0.5996 - val_loss: 1.3737 - val_accuracy: 0.6365\n",
            "\n",
            "Epoch 00010: val_loss improved from 1.38096 to 1.37373, saving model to /content/drive/MyDrive/model/food101.h5\n",
            "Epoch 11/16\n",
            "2368/2368 [==============================] - 531s 223ms/step - loss: 1.5606 - accuracy: 0.6034 - val_loss: 1.3570 - val_accuracy: 0.6418\n",
            "\n",
            "Epoch 00011: val_loss improved from 1.37373 to 1.35697, saving model to /content/drive/MyDrive/model/food101.h5\n",
            "Epoch 12/16\n",
            "2368/2368 [==============================] - 524s 220ms/step - loss: 1.5407 - accuracy: 0.6077 - val_loss: 1.3367 - val_accuracy: 0.6458\n",
            "\n",
            "Epoch 00012: val_loss improved from 1.35697 to 1.33675, saving model to /content/drive/MyDrive/model/food101.h5\n",
            "Epoch 13/16\n",
            "2368/2368 [==============================] - 530s 223ms/step - loss: 1.5109 - accuracy: 0.6138 - val_loss: 1.3199 - val_accuracy: 0.6489\n",
            "\n",
            "Epoch 00013: val_loss improved from 1.33675 to 1.31992, saving model to /content/drive/MyDrive/model/food101.h5\n",
            "Epoch 14/16\n",
            "2368/2368 [==============================] - 528s 222ms/step - loss: 1.4943 - accuracy: 0.6180 - val_loss: 1.3091 - val_accuracy: 0.6517\n",
            "\n",
            "Epoch 00014: val_loss improved from 1.31992 to 1.30912, saving model to /content/drive/MyDrive/model/food101.h5\n",
            "Epoch 15/16\n",
            "2368/2368 [==============================] - 529s 223ms/step - loss: 1.4785 - accuracy: 0.6222 - val_loss: 1.3321 - val_accuracy: 0.6444\n",
            "\n",
            "Epoch 00015: val_loss did not improve from 1.30912\n",
            "Epoch 16/16\n",
            "2368/2368 [==============================] - 521s 219ms/step - loss: 1.4599 - accuracy: 0.6261 - val_loss: 1.2963 - val_accuracy: 0.6483\n",
            "\n",
            "Epoch 00016: val_loss improved from 1.30912 to 1.29630, saving model to /content/drive/MyDrive/model/food101.h5\n"
          ],
          "name": "stdout"
        }
      ]
    },
    {
      "cell_type": "code",
      "metadata": {
        "id": "B09sWwxvvfjW"
      },
      "source": [
        "model = tf.keras.models.load_model('/content/drive/MyDrive/model/food101.h5')"
      ],
      "execution_count": 19,
      "outputs": []
    },
    {
      "cell_type": "code",
      "metadata": {
        "id": "MVK4TGtzaC4G"
      },
      "source": [
        "es = EarlyStopping(monitor='val_loss', patience=3, mode='min')\n",
        "filepath2='/content/drive/MyDrive/model/sgd1food101.h5'\n",
        "md = ModelCheckpoint(filepath2, monitor='val_loss', \n",
        "verbose=1, save_best_only=True, save_weights_only=False, mode='min')\n",
        "\n",
        "log_dir = \"logs2/fit/\" + datetime.datetime.now().strftime(\"%Y%m%d-%H%M%S\")\n",
        "tb = TensorBoard(log_dir=log_dir, histogram_freq=1)\n",
        "def scheduler(epoch):\n",
        "  lr = 0.0002\n",
        "  if epoch < 10:\n",
        "    return 0.0002\n",
        "  else:\n",
        "    return 0.0001 * tf.math.exp(-0.1)\n",
        "\n",
        "lrs = LearningRateScheduler(scheduler)\n",
        "\n",
        "sgd = SGD(learning_rate=0.01)\n",
        "adam = Adam(learning_rate=0.0001)"
      ],
      "execution_count": 20,
      "outputs": []
    },
    {
      "cell_type": "code",
      "metadata": {
        "id": "xNTzdVsCaY2d"
      },
      "source": [
        "train_dataset = train_ds.map(map_func=map_funct, num_parallel_calls=tf.data.AUTOTUNE)\n",
        "train_dataset = train_dataset.shuffle(1000).batch(64).prefetch(buffer_size=tf.data.AUTOTUNE)\n",
        "train_dataset = train_dataset.map(augment, num_parallel_calls=tf.data.AUTOTUNE)\n",
        "\n",
        "# Test Dataset\n",
        "test_dataset = test_ds.map(map_func=map_funct, num_parallel_calls=tf.data.AUTOTUNE)\n",
        "test_dataset = test_dataset.shuffle(1000).batch(64).prefetch(buffer_size=tf.data.AUTOTUNE)"
      ],
      "execution_count": 21,
      "outputs": []
    },
    {
      "cell_type": "code",
      "metadata": {
        "id": "vHCeWy_faZql"
      },
      "source": [
        "rm -rf ./logs2"
      ],
      "execution_count": 22,
      "outputs": []
    },
    {
      "cell_type": "code",
      "metadata": {
        "id": "rEIWp4lpzVf3",
        "colab": {
          "base_uri": "https://localhost:8080/"
        },
        "outputId": "d1c9dd2a-3579-402f-eba8-2e4e46c1dd93"
      },
      "source": [
        "model_history = model.fit(train_dataset,\n",
        "                            epochs=12,  \n",
        "                            verbose=1, \n",
        "                            callbacks=[tb, md, es],\n",
        "                            steps_per_epoch=len(train_dataset), \n",
        "                            validation_data=test_dataset, \n",
        "                            validation_steps=(0.2*len(test_dataset)))"
      ],
      "execution_count": 23,
      "outputs": [
        {
          "output_type": "stream",
          "text": [
            "/usr/local/lib/python3.7/dist-packages/tensorflow/python/keras/utils/generic_utils.py:497: CustomMaskWarning: Custom mask layers require a config and must override get_config. When loading, the custom mask layer must be passed to the custom_objects argument.\n",
            "  category=CustomMaskWarning)\n"
          ],
          "name": "stderr"
        },
        {
          "output_type": "stream",
          "text": [
            "Epoch 1/12\n",
            "1184/1184 [==============================] - 511s 427ms/step - loss: 1.4252 - accuracy: 0.6345 - val_loss: 1.2849 - val_accuracy: 0.6559\n",
            "\n",
            "Epoch 00001: val_loss improved from inf to 1.28486, saving model to /content/drive/MyDrive/model/sgd1food101.h5\n",
            "Epoch 2/12\n",
            "1184/1184 [==============================] - 508s 427ms/step - loss: 1.4187 - accuracy: 0.6378 - val_loss: 1.2750 - val_accuracy: 0.6596\n",
            "\n",
            "Epoch 00002: val_loss improved from 1.28486 to 1.27495, saving model to /content/drive/MyDrive/model/sgd1food101.h5\n",
            "Epoch 3/12\n",
            "1184/1184 [==============================] - 513s 431ms/step - loss: 1.4089 - accuracy: 0.6387 - val_loss: 1.2783 - val_accuracy: 0.6557\n",
            "\n",
            "Epoch 00003: val_loss did not improve from 1.27495\n",
            "Epoch 4/12\n",
            "1184/1184 [==============================] - 510s 428ms/step - loss: 1.3994 - accuracy: 0.6400 - val_loss: 1.2726 - val_accuracy: 0.6584\n",
            "\n",
            "Epoch 00004: val_loss improved from 1.27495 to 1.27264, saving model to /content/drive/MyDrive/model/sgd1food101.h5\n",
            "Epoch 5/12\n",
            "1184/1184 [==============================] - 506s 425ms/step - loss: 1.3933 - accuracy: 0.6429 - val_loss: 1.2726 - val_accuracy: 0.6570\n",
            "\n",
            "Epoch 00005: val_loss improved from 1.27264 to 1.27263, saving model to /content/drive/MyDrive/model/sgd1food101.h5\n",
            "Epoch 6/12\n",
            "1184/1184 [==============================] - 512s 430ms/step - loss: 1.3826 - accuracy: 0.6444 - val_loss: 1.2780 - val_accuracy: 0.6600\n",
            "\n",
            "Epoch 00006: val_loss did not improve from 1.27263\n",
            "Epoch 7/12\n",
            "1184/1184 [==============================] - 505s 424ms/step - loss: 1.3760 - accuracy: 0.6461 - val_loss: 1.2598 - val_accuracy: 0.6612\n",
            "\n",
            "Epoch 00007: val_loss improved from 1.27263 to 1.25977, saving model to /content/drive/MyDrive/model/sgd1food101.h5\n",
            "Epoch 8/12\n",
            "1184/1184 [==============================] - 514s 432ms/step - loss: 1.3634 - accuracy: 0.6484 - val_loss: 1.2689 - val_accuracy: 0.6598\n",
            "\n",
            "Epoch 00008: val_loss did not improve from 1.25977\n",
            "Epoch 9/12\n",
            "1184/1184 [==============================] - 515s 433ms/step - loss: 1.3571 - accuracy: 0.6491 - val_loss: 1.2614 - val_accuracy: 0.6618\n",
            "\n",
            "Epoch 00009: val_loss did not improve from 1.25977\n",
            "Epoch 10/12\n",
            "1184/1184 [==============================] - 513s 431ms/step - loss: 1.3477 - accuracy: 0.6519 - val_loss: 1.2750 - val_accuracy: 0.6604\n",
            "\n",
            "Epoch 00010: val_loss did not improve from 1.25977\n"
          ],
          "name": "stdout"
        }
      ]
    },
    {
      "cell_type": "code",
      "metadata": {
        "id": "hCm6W5a_Mx88"
      },
      "source": [
        "model = tf.keras.models.load_model(filepath2)\n"
      ],
      "execution_count": 24,
      "outputs": []
    },
    {
      "cell_type": "code",
      "metadata": {
        "id": "p3iTKH_0GwHy"
      },
      "source": [
        "es = EarlyStopping(monitor='val_loss', patience=3, mode='min')\n",
        "filepath3='/content/drive/MyDrive/model/sgd2food101.h5'\n",
        "md = ModelCheckpoint(filepath3, monitor='val_loss', \n",
        "verbose=1, save_best_only=True, save_weights_only=False, mode='min')\n",
        "\n",
        "log_dir = \"logs3/fit/\" + datetime.datetime.now().strftime(\"%Y%m%d-%H%M%S\")\n",
        "tb = TensorBoard(log_dir=log_dir, histogram_freq=1)\n",
        "def scheduler(epoch):\n",
        "  lr = 0.0002\n",
        "  if epoch < 10:\n",
        "    return 0.0002\n",
        "  else:\n",
        "    return 0.0001 * tf.math.exp(-0.1)\n",
        "\n",
        "lrs = LearningRateScheduler(scheduler)\n",
        "\n",
        "sgd = SGD(learning_rate=0.01)\n",
        "adam = Adam(learning_rate=0.0001)"
      ],
      "execution_count": null,
      "outputs": []
    },
    {
      "cell_type": "code",
      "metadata": {
        "id": "OOYTwMdnGv7j"
      },
      "source": [
        "train_dataset = train_ds.map(map_func=map_funct, num_parallel_calls=tf.data.AUTOTUNE)\n",
        "train_dataset = train_dataset.shuffle(1000).batch(128).prefetch(buffer_size=tf.data.AUTOTUNE)\n",
        "train_dataset = train_dataset.map(augment, num_parallel_calls=tf.data.AUTOTUNE)\n",
        "\n",
        "# Test Dataset\n",
        "test_dataset = test_ds.map(map_func=map_funct, num_parallel_calls=tf.data.AUTOTUNE)\n",
        "test_dataset = test_dataset.shuffle(1000).batch(128).prefetch(buffer_size=tf.data.AUTOTUNE)"
      ],
      "execution_count": null,
      "outputs": []
    },
    {
      "cell_type": "code",
      "metadata": {
        "id": "8FEfswCvGvts"
      },
      "source": [
        "rm -rf ./logs3"
      ],
      "execution_count": null,
      "outputs": []
    },
    {
      "cell_type": "code",
      "metadata": {
        "id": "dI73tIjCGvbL"
      },
      "source": [
        "model_history = model.fit(train_dataset,\n",
        "                            epochs=12,  \n",
        "                            verbose=1, \n",
        "                            callbacks=[tb, md, es],\n",
        "                            steps_per_epoch=len(train_dataset), \n",
        "                            validation_data=test_dataset, \n",
        "                            validation_steps=(0.2*len(test_dataset)))"
      ],
      "execution_count": null,
      "outputs": []
    },
    {
      "cell_type": "code",
      "metadata": {
        "id": "fQoMxUZCIAmz"
      },
      "source": [
        "model = tf.keras.models.load_model(filepath3)\n"
      ],
      "execution_count": null,
      "outputs": []
    },
    {
      "cell_type": "code",
      "metadata": {
        "id": "BJ2UL72MtXAg"
      },
      "source": [
        "es = EarlyStopping(monitor='val_loss', patience=3, mode='min')\n",
        "filepathft='/content/drive/MyDrive/model/FT_food101.h5'\n",
        "md = ModelCheckpoint(filepathft, monitor='val_loss', \n",
        "                     verbose=1, save_best_only=True, save_weights_only=False, mode='min')\n",
        "\n",
        "log_dir = \"logsFT/fit/\" + datetime.datetime.now().strftime(\"%Y%m%d-%H%M%S\")\n",
        "tb = TensorBoard(log_dir=log_dir, histogram_freq=1)\n",
        "lr =  0.0001\n",
        "def scheduler(epoch):\n",
        "  lr2 =  lr\n",
        "  if epoch < 2:\n",
        "    return lr2\n",
        "  else:\n",
        "    for i in range(epoch-1):\n",
        "      lr2 = lr2 - 0.000001\n",
        "    return lr2\n",
        "\n",
        "lrs = LearningRateScheduler(scheduler)\n",
        "sgd = SGD(learning_rate=0.0001)\n",
        "adam = Adam(learning_rate=lr) "
      ],
      "execution_count": null,
      "outputs": []
    },
    {
      "cell_type": "code",
      "metadata": {
        "id": "K1PvlG-Y7RDv"
      },
      "source": [
        "base_model.trainable = True\n",
        "model.compile(loss=\"sparse_categorical_crossentropy\",\n",
        "              optimizer=adam,\n",
        "              metrics=[\"accuracy\"])"
      ],
      "execution_count": null,
      "outputs": []
    },
    {
      "cell_type": "code",
      "metadata": {
        "id": "EVmI8ZxOHpdp"
      },
      "source": [
        "train_dataset = train_ds.map(map_func=map_funct, num_parallel_calls=tf.data.AUTOTUNE)\n",
        "train_dataset = train_dataset.shuffle(1000).batch(32).prefetch(buffer_size=tf.data.AUTOTUNE)\n",
        "train_dataset = train_dataset.map(augment, num_parallel_calls=tf.data.AUTOTUNE)\n",
        "\n",
        "# Test Dataset\n",
        "test_dataset = test_ds.map(map_func=map_funct, num_parallel_calls=tf.data.AUTOTUNE)\n",
        "test_dataset = test_dataset.shuffle(1000).batch(32).prefetch(buffer_size=tf.data.AUTOTUNE)"
      ],
      "execution_count": null,
      "outputs": []
    },
    {
      "cell_type": "code",
      "metadata": {
        "id": "p7QWe2Kx7cLC"
      },
      "source": [
        "rm -rf ./logsFT"
      ],
      "execution_count": null,
      "outputs": []
    },
    {
      "cell_type": "code",
      "metadata": {
        "id": "K_Hz8GEB7bCD"
      },
      "source": [
        "model_history = model.fit(train_dataset,\n",
        "                            epochs=50,  \n",
        "                            verbose=1, \n",
        "                            callbacks=[tb, es, md, lrs],\n",
        "                            steps_per_epoch=len(train_dataset), \n",
        "                            validation_data=test_dataset, \n",
        "                            validation_steps=(0.2*len(test_dataset)))"
      ],
      "execution_count": null,
      "outputs": []
    },
    {
      "cell_type": "code",
      "metadata": {
        "id": "FA-spjK-Smpg"
      },
      "source": [
        "model = tf.keras.models.load_model(filepathft)"
      ],
      "execution_count": null,
      "outputs": []
    },
    {
      "cell_type": "code",
      "metadata": {
        "id": "ONiViWPs7fR7"
      },
      "source": [
        "## Data Preparation for evaluating"
      ],
      "execution_count": null,
      "outputs": []
    },
    {
      "cell_type": "code",
      "metadata": {
        "id": "OcecLQxgQ28Z"
      },
      "source": [
        "# model evaluating\n",
        "\n",
        "pred = model.evaluate(test_dataset)"
      ],
      "execution_count": null,
      "outputs": []
    },
    {
      "cell_type": "code",
      "metadata": {
        "id": "E7OjBm5R6l_l"
      },
      "source": [
        ""
      ],
      "execution_count": null,
      "outputs": []
    }
  ]
}