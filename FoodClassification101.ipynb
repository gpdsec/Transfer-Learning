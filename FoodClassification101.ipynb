{
  "nbformat": 4,
  "nbformat_minor": 0,
  "metadata": {
    "accelerator": "GPU",
    "colab": {
      "name": "FoodClassification101.ipynb",
      "provenance": [],
      "collapsed_sections": [],
      "include_colab_link": true
    },
    "kernelspec": {
      "display_name": "Python 3",
      "name": "python3"
    },
    "language_info": {
      "name": "python"
    },
    "widgets": {
      "application/vnd.jupyter.widget-state+json": {
        "aed34b2b852d4b068bd397db1feddbd0": {
          "model_module": "@jupyter-widgets/controls",
          "model_name": "HBoxModel",
          "state": {
            "_view_name": "HBoxView",
            "_dom_classes": [],
            "_model_name": "HBoxModel",
            "_view_module": "@jupyter-widgets/controls",
            "_model_module_version": "1.5.0",
            "_view_count": null,
            "_view_module_version": "1.5.0",
            "box_style": "",
            "layout": "IPY_MODEL_6b0be9cebe9c4802bb9fc5d0d6767556",
            "_model_module": "@jupyter-widgets/controls",
            "children": [
              "IPY_MODEL_e1082adb82b24b24ae126487eb86a8fc",
              "IPY_MODEL_10f5529f19634bf7b50ea00dc8262aaa"
            ]
          }
        },
        "6b0be9cebe9c4802bb9fc5d0d6767556": {
          "model_module": "@jupyter-widgets/base",
          "model_name": "LayoutModel",
          "state": {
            "_view_name": "LayoutView",
            "grid_template_rows": null,
            "right": null,
            "justify_content": null,
            "_view_module": "@jupyter-widgets/base",
            "overflow": null,
            "_model_module_version": "1.2.0",
            "_view_count": null,
            "flex_flow": null,
            "width": null,
            "min_width": null,
            "border": null,
            "align_items": null,
            "bottom": null,
            "_model_module": "@jupyter-widgets/base",
            "top": null,
            "grid_column": null,
            "overflow_y": null,
            "overflow_x": null,
            "grid_auto_flow": null,
            "grid_area": null,
            "grid_template_columns": null,
            "flex": null,
            "_model_name": "LayoutModel",
            "justify_items": null,
            "grid_row": null,
            "max_height": null,
            "align_content": null,
            "visibility": null,
            "align_self": null,
            "height": null,
            "min_height": null,
            "padding": null,
            "grid_auto_rows": null,
            "grid_gap": null,
            "max_width": null,
            "order": null,
            "_view_module_version": "1.2.0",
            "grid_template_areas": null,
            "object_position": null,
            "object_fit": null,
            "grid_auto_columns": null,
            "margin": null,
            "display": null,
            "left": null
          }
        },
        "e1082adb82b24b24ae126487eb86a8fc": {
          "model_module": "@jupyter-widgets/controls",
          "model_name": "FloatProgressModel",
          "state": {
            "_view_name": "ProgressView",
            "style": "IPY_MODEL_c2a991b33d5f45989cdbeba1d0360877",
            "_dom_classes": [],
            "description": "Dl Completed...: 100%",
            "_model_name": "FloatProgressModel",
            "bar_style": "success",
            "max": 1,
            "_view_module": "@jupyter-widgets/controls",
            "_model_module_version": "1.5.0",
            "value": 1,
            "_view_count": null,
            "_view_module_version": "1.5.0",
            "orientation": "horizontal",
            "min": 0,
            "description_tooltip": null,
            "_model_module": "@jupyter-widgets/controls",
            "layout": "IPY_MODEL_f6f7f2451ede41418f493ffef58b6b0c"
          }
        },
        "10f5529f19634bf7b50ea00dc8262aaa": {
          "model_module": "@jupyter-widgets/controls",
          "model_name": "HTMLModel",
          "state": {
            "_view_name": "HTMLView",
            "style": "IPY_MODEL_48db2b1591f341a785320bdb093fdc13",
            "_dom_classes": [],
            "description": "",
            "_model_name": "HTMLModel",
            "placeholder": "​",
            "_view_module": "@jupyter-widgets/controls",
            "_model_module_version": "1.5.0",
            "value": " 1/1 [06:04&lt;00:00, 364.02s/ url]",
            "_view_count": null,
            "_view_module_version": "1.5.0",
            "description_tooltip": null,
            "_model_module": "@jupyter-widgets/controls",
            "layout": "IPY_MODEL_239f40048b31443180610edbd741b183"
          }
        },
        "c2a991b33d5f45989cdbeba1d0360877": {
          "model_module": "@jupyter-widgets/controls",
          "model_name": "ProgressStyleModel",
          "state": {
            "_view_name": "StyleView",
            "_model_name": "ProgressStyleModel",
            "description_width": "initial",
            "_view_module": "@jupyter-widgets/base",
            "_model_module_version": "1.5.0",
            "_view_count": null,
            "_view_module_version": "1.2.0",
            "bar_color": null,
            "_model_module": "@jupyter-widgets/controls"
          }
        },
        "f6f7f2451ede41418f493ffef58b6b0c": {
          "model_module": "@jupyter-widgets/base",
          "model_name": "LayoutModel",
          "state": {
            "_view_name": "LayoutView",
            "grid_template_rows": null,
            "right": null,
            "justify_content": null,
            "_view_module": "@jupyter-widgets/base",
            "overflow": null,
            "_model_module_version": "1.2.0",
            "_view_count": null,
            "flex_flow": null,
            "width": null,
            "min_width": null,
            "border": null,
            "align_items": null,
            "bottom": null,
            "_model_module": "@jupyter-widgets/base",
            "top": null,
            "grid_column": null,
            "overflow_y": null,
            "overflow_x": null,
            "grid_auto_flow": null,
            "grid_area": null,
            "grid_template_columns": null,
            "flex": null,
            "_model_name": "LayoutModel",
            "justify_items": null,
            "grid_row": null,
            "max_height": null,
            "align_content": null,
            "visibility": null,
            "align_self": null,
            "height": null,
            "min_height": null,
            "padding": null,
            "grid_auto_rows": null,
            "grid_gap": null,
            "max_width": null,
            "order": null,
            "_view_module_version": "1.2.0",
            "grid_template_areas": null,
            "object_position": null,
            "object_fit": null,
            "grid_auto_columns": null,
            "margin": null,
            "display": null,
            "left": null
          }
        },
        "48db2b1591f341a785320bdb093fdc13": {
          "model_module": "@jupyter-widgets/controls",
          "model_name": "DescriptionStyleModel",
          "state": {
            "_view_name": "StyleView",
            "_model_name": "DescriptionStyleModel",
            "description_width": "",
            "_view_module": "@jupyter-widgets/base",
            "_model_module_version": "1.5.0",
            "_view_count": null,
            "_view_module_version": "1.2.0",
            "_model_module": "@jupyter-widgets/controls"
          }
        },
        "239f40048b31443180610edbd741b183": {
          "model_module": "@jupyter-widgets/base",
          "model_name": "LayoutModel",
          "state": {
            "_view_name": "LayoutView",
            "grid_template_rows": null,
            "right": null,
            "justify_content": null,
            "_view_module": "@jupyter-widgets/base",
            "overflow": null,
            "_model_module_version": "1.2.0",
            "_view_count": null,
            "flex_flow": null,
            "width": null,
            "min_width": null,
            "border": null,
            "align_items": null,
            "bottom": null,
            "_model_module": "@jupyter-widgets/base",
            "top": null,
            "grid_column": null,
            "overflow_y": null,
            "overflow_x": null,
            "grid_auto_flow": null,
            "grid_area": null,
            "grid_template_columns": null,
            "flex": null,
            "_model_name": "LayoutModel",
            "justify_items": null,
            "grid_row": null,
            "max_height": null,
            "align_content": null,
            "visibility": null,
            "align_self": null,
            "height": null,
            "min_height": null,
            "padding": null,
            "grid_auto_rows": null,
            "grid_gap": null,
            "max_width": null,
            "order": null,
            "_view_module_version": "1.2.0",
            "grid_template_areas": null,
            "object_position": null,
            "object_fit": null,
            "grid_auto_columns": null,
            "margin": null,
            "display": null,
            "left": null
          }
        },
        "1b449545a8bd4c04add4a9984021010d": {
          "model_module": "@jupyter-widgets/controls",
          "model_name": "HBoxModel",
          "state": {
            "_view_name": "HBoxView",
            "_dom_classes": [],
            "_model_name": "HBoxModel",
            "_view_module": "@jupyter-widgets/controls",
            "_model_module_version": "1.5.0",
            "_view_count": null,
            "_view_module_version": "1.5.0",
            "box_style": "",
            "layout": "IPY_MODEL_0f088e90c5ce4a34972c7361e1a84b31",
            "_model_module": "@jupyter-widgets/controls",
            "children": [
              "IPY_MODEL_a6b6fb6f93c14b50b8d96195a344d2f4",
              "IPY_MODEL_bc4936235e22473c91edf0c82f61c112"
            ]
          }
        },
        "0f088e90c5ce4a34972c7361e1a84b31": {
          "model_module": "@jupyter-widgets/base",
          "model_name": "LayoutModel",
          "state": {
            "_view_name": "LayoutView",
            "grid_template_rows": null,
            "right": null,
            "justify_content": null,
            "_view_module": "@jupyter-widgets/base",
            "overflow": null,
            "_model_module_version": "1.2.0",
            "_view_count": null,
            "flex_flow": null,
            "width": null,
            "min_width": null,
            "border": null,
            "align_items": null,
            "bottom": null,
            "_model_module": "@jupyter-widgets/base",
            "top": null,
            "grid_column": null,
            "overflow_y": null,
            "overflow_x": null,
            "grid_auto_flow": null,
            "grid_area": null,
            "grid_template_columns": null,
            "flex": null,
            "_model_name": "LayoutModel",
            "justify_items": null,
            "grid_row": null,
            "max_height": null,
            "align_content": null,
            "visibility": null,
            "align_self": null,
            "height": null,
            "min_height": null,
            "padding": null,
            "grid_auto_rows": null,
            "grid_gap": null,
            "max_width": null,
            "order": null,
            "_view_module_version": "1.2.0",
            "grid_template_areas": null,
            "object_position": null,
            "object_fit": null,
            "grid_auto_columns": null,
            "margin": null,
            "display": null,
            "left": null
          }
        },
        "a6b6fb6f93c14b50b8d96195a344d2f4": {
          "model_module": "@jupyter-widgets/controls",
          "model_name": "FloatProgressModel",
          "state": {
            "_view_name": "ProgressView",
            "style": "IPY_MODEL_ed12c70f326d4b198f88df04ea60b75f",
            "_dom_classes": [],
            "description": "Dl Size...: 100%",
            "_model_name": "FloatProgressModel",
            "bar_style": "success",
            "max": 1,
            "_view_module": "@jupyter-widgets/controls",
            "_model_module_version": "1.5.0",
            "value": 1,
            "_view_count": null,
            "_view_module_version": "1.5.0",
            "orientation": "horizontal",
            "min": 0,
            "description_tooltip": null,
            "_model_module": "@jupyter-widgets/controls",
            "layout": "IPY_MODEL_046febced836438ba3c03abc8537be67"
          }
        },
        "bc4936235e22473c91edf0c82f61c112": {
          "model_module": "@jupyter-widgets/controls",
          "model_name": "HTMLModel",
          "state": {
            "_view_name": "HTMLView",
            "style": "IPY_MODEL_8fe5820e2116418a98f79debc5074a3f",
            "_dom_classes": [],
            "description": "",
            "_model_name": "HTMLModel",
            "placeholder": "​",
            "_view_module": "@jupyter-widgets/controls",
            "_model_module_version": "1.5.0",
            "value": " 4764/4764 [06:03&lt;00:00, 13.09 MiB/s]",
            "_view_count": null,
            "_view_module_version": "1.5.0",
            "description_tooltip": null,
            "_model_module": "@jupyter-widgets/controls",
            "layout": "IPY_MODEL_01cbb191ecdf44039a7238a4a6018d34"
          }
        },
        "ed12c70f326d4b198f88df04ea60b75f": {
          "model_module": "@jupyter-widgets/controls",
          "model_name": "ProgressStyleModel",
          "state": {
            "_view_name": "StyleView",
            "_model_name": "ProgressStyleModel",
            "description_width": "initial",
            "_view_module": "@jupyter-widgets/base",
            "_model_module_version": "1.5.0",
            "_view_count": null,
            "_view_module_version": "1.2.0",
            "bar_color": null,
            "_model_module": "@jupyter-widgets/controls"
          }
        },
        "046febced836438ba3c03abc8537be67": {
          "model_module": "@jupyter-widgets/base",
          "model_name": "LayoutModel",
          "state": {
            "_view_name": "LayoutView",
            "grid_template_rows": null,
            "right": null,
            "justify_content": null,
            "_view_module": "@jupyter-widgets/base",
            "overflow": null,
            "_model_module_version": "1.2.0",
            "_view_count": null,
            "flex_flow": null,
            "width": null,
            "min_width": null,
            "border": null,
            "align_items": null,
            "bottom": null,
            "_model_module": "@jupyter-widgets/base",
            "top": null,
            "grid_column": null,
            "overflow_y": null,
            "overflow_x": null,
            "grid_auto_flow": null,
            "grid_area": null,
            "grid_template_columns": null,
            "flex": null,
            "_model_name": "LayoutModel",
            "justify_items": null,
            "grid_row": null,
            "max_height": null,
            "align_content": null,
            "visibility": null,
            "align_self": null,
            "height": null,
            "min_height": null,
            "padding": null,
            "grid_auto_rows": null,
            "grid_gap": null,
            "max_width": null,
            "order": null,
            "_view_module_version": "1.2.0",
            "grid_template_areas": null,
            "object_position": null,
            "object_fit": null,
            "grid_auto_columns": null,
            "margin": null,
            "display": null,
            "left": null
          }
        },
        "8fe5820e2116418a98f79debc5074a3f": {
          "model_module": "@jupyter-widgets/controls",
          "model_name": "DescriptionStyleModel",
          "state": {
            "_view_name": "StyleView",
            "_model_name": "DescriptionStyleModel",
            "description_width": "",
            "_view_module": "@jupyter-widgets/base",
            "_model_module_version": "1.5.0",
            "_view_count": null,
            "_view_module_version": "1.2.0",
            "_model_module": "@jupyter-widgets/controls"
          }
        },
        "01cbb191ecdf44039a7238a4a6018d34": {
          "model_module": "@jupyter-widgets/base",
          "model_name": "LayoutModel",
          "state": {
            "_view_name": "LayoutView",
            "grid_template_rows": null,
            "right": null,
            "justify_content": null,
            "_view_module": "@jupyter-widgets/base",
            "overflow": null,
            "_model_module_version": "1.2.0",
            "_view_count": null,
            "flex_flow": null,
            "width": null,
            "min_width": null,
            "border": null,
            "align_items": null,
            "bottom": null,
            "_model_module": "@jupyter-widgets/base",
            "top": null,
            "grid_column": null,
            "overflow_y": null,
            "overflow_x": null,
            "grid_auto_flow": null,
            "grid_area": null,
            "grid_template_columns": null,
            "flex": null,
            "_model_name": "LayoutModel",
            "justify_items": null,
            "grid_row": null,
            "max_height": null,
            "align_content": null,
            "visibility": null,
            "align_self": null,
            "height": null,
            "min_height": null,
            "padding": null,
            "grid_auto_rows": null,
            "grid_gap": null,
            "max_width": null,
            "order": null,
            "_view_module_version": "1.2.0",
            "grid_template_areas": null,
            "object_position": null,
            "object_fit": null,
            "grid_auto_columns": null,
            "margin": null,
            "display": null,
            "left": null
          }
        },
        "1b4aca8565eb46b9834a373feabc7687": {
          "model_module": "@jupyter-widgets/controls",
          "model_name": "HBoxModel",
          "state": {
            "_view_name": "HBoxView",
            "_dom_classes": [],
            "_model_name": "HBoxModel",
            "_view_module": "@jupyter-widgets/controls",
            "_model_module_version": "1.5.0",
            "_view_count": null,
            "_view_module_version": "1.5.0",
            "box_style": "",
            "layout": "IPY_MODEL_64d53048075d4aeab53e27270f3ce03c",
            "_model_module": "@jupyter-widgets/controls",
            "children": [
              "IPY_MODEL_3876a6a41737474cac1d1808aa279595",
              "IPY_MODEL_89f2aefd761c47b680e8998c3e611e3a"
            ]
          }
        },
        "64d53048075d4aeab53e27270f3ce03c": {
          "model_module": "@jupyter-widgets/base",
          "model_name": "LayoutModel",
          "state": {
            "_view_name": "LayoutView",
            "grid_template_rows": null,
            "right": null,
            "justify_content": null,
            "_view_module": "@jupyter-widgets/base",
            "overflow": null,
            "_model_module_version": "1.2.0",
            "_view_count": null,
            "flex_flow": null,
            "width": null,
            "min_width": null,
            "border": null,
            "align_items": null,
            "bottom": null,
            "_model_module": "@jupyter-widgets/base",
            "top": null,
            "grid_column": null,
            "overflow_y": null,
            "overflow_x": null,
            "grid_auto_flow": null,
            "grid_area": null,
            "grid_template_columns": null,
            "flex": null,
            "_model_name": "LayoutModel",
            "justify_items": null,
            "grid_row": null,
            "max_height": null,
            "align_content": null,
            "visibility": null,
            "align_self": null,
            "height": null,
            "min_height": null,
            "padding": null,
            "grid_auto_rows": null,
            "grid_gap": null,
            "max_width": null,
            "order": null,
            "_view_module_version": "1.2.0",
            "grid_template_areas": null,
            "object_position": null,
            "object_fit": null,
            "grid_auto_columns": null,
            "margin": null,
            "display": null,
            "left": null
          }
        },
        "3876a6a41737474cac1d1808aa279595": {
          "model_module": "@jupyter-widgets/controls",
          "model_name": "FloatProgressModel",
          "state": {
            "_view_name": "ProgressView",
            "style": "IPY_MODEL_9465fb968a4847df8ef8fe0e3e45dd4b",
            "_dom_classes": [],
            "description": "Extraction completed...: 100%",
            "_model_name": "FloatProgressModel",
            "bar_style": "success",
            "max": 1,
            "_view_module": "@jupyter-widgets/controls",
            "_model_module_version": "1.5.0",
            "value": 1,
            "_view_count": null,
            "_view_module_version": "1.5.0",
            "orientation": "horizontal",
            "min": 0,
            "description_tooltip": null,
            "_model_module": "@jupyter-widgets/controls",
            "layout": "IPY_MODEL_00083f7ae8dd4c4aba5eccfe8c8ce341"
          }
        },
        "89f2aefd761c47b680e8998c3e611e3a": {
          "model_module": "@jupyter-widgets/controls",
          "model_name": "HTMLModel",
          "state": {
            "_view_name": "HTMLView",
            "style": "IPY_MODEL_1c199ef9a7db44bc90da4708dbb8a302",
            "_dom_classes": [],
            "description": "",
            "_model_name": "HTMLModel",
            "placeholder": "​",
            "_view_module": "@jupyter-widgets/controls",
            "_model_module_version": "1.5.0",
            "value": " 1/1 [06:03&lt;00:00, 363.93s/ file]",
            "_view_count": null,
            "_view_module_version": "1.5.0",
            "description_tooltip": null,
            "_model_module": "@jupyter-widgets/controls",
            "layout": "IPY_MODEL_62dbcdb64e2a4e138966c804ab6f0baf"
          }
        },
        "9465fb968a4847df8ef8fe0e3e45dd4b": {
          "model_module": "@jupyter-widgets/controls",
          "model_name": "ProgressStyleModel",
          "state": {
            "_view_name": "StyleView",
            "_model_name": "ProgressStyleModel",
            "description_width": "initial",
            "_view_module": "@jupyter-widgets/base",
            "_model_module_version": "1.5.0",
            "_view_count": null,
            "_view_module_version": "1.2.0",
            "bar_color": null,
            "_model_module": "@jupyter-widgets/controls"
          }
        },
        "00083f7ae8dd4c4aba5eccfe8c8ce341": {
          "model_module": "@jupyter-widgets/base",
          "model_name": "LayoutModel",
          "state": {
            "_view_name": "LayoutView",
            "grid_template_rows": null,
            "right": null,
            "justify_content": null,
            "_view_module": "@jupyter-widgets/base",
            "overflow": null,
            "_model_module_version": "1.2.0",
            "_view_count": null,
            "flex_flow": null,
            "width": null,
            "min_width": null,
            "border": null,
            "align_items": null,
            "bottom": null,
            "_model_module": "@jupyter-widgets/base",
            "top": null,
            "grid_column": null,
            "overflow_y": null,
            "overflow_x": null,
            "grid_auto_flow": null,
            "grid_area": null,
            "grid_template_columns": null,
            "flex": null,
            "_model_name": "LayoutModel",
            "justify_items": null,
            "grid_row": null,
            "max_height": null,
            "align_content": null,
            "visibility": null,
            "align_self": null,
            "height": null,
            "min_height": null,
            "padding": null,
            "grid_auto_rows": null,
            "grid_gap": null,
            "max_width": null,
            "order": null,
            "_view_module_version": "1.2.0",
            "grid_template_areas": null,
            "object_position": null,
            "object_fit": null,
            "grid_auto_columns": null,
            "margin": null,
            "display": null,
            "left": null
          }
        },
        "1c199ef9a7db44bc90da4708dbb8a302": {
          "model_module": "@jupyter-widgets/controls",
          "model_name": "DescriptionStyleModel",
          "state": {
            "_view_name": "StyleView",
            "_model_name": "DescriptionStyleModel",
            "description_width": "",
            "_view_module": "@jupyter-widgets/base",
            "_model_module_version": "1.5.0",
            "_view_count": null,
            "_view_module_version": "1.2.0",
            "_model_module": "@jupyter-widgets/controls"
          }
        },
        "62dbcdb64e2a4e138966c804ab6f0baf": {
          "model_module": "@jupyter-widgets/base",
          "model_name": "LayoutModel",
          "state": {
            "_view_name": "LayoutView",
            "grid_template_rows": null,
            "right": null,
            "justify_content": null,
            "_view_module": "@jupyter-widgets/base",
            "overflow": null,
            "_model_module_version": "1.2.0",
            "_view_count": null,
            "flex_flow": null,
            "width": null,
            "min_width": null,
            "border": null,
            "align_items": null,
            "bottom": null,
            "_model_module": "@jupyter-widgets/base",
            "top": null,
            "grid_column": null,
            "overflow_y": null,
            "overflow_x": null,
            "grid_auto_flow": null,
            "grid_area": null,
            "grid_template_columns": null,
            "flex": null,
            "_model_name": "LayoutModel",
            "justify_items": null,
            "grid_row": null,
            "max_height": null,
            "align_content": null,
            "visibility": null,
            "align_self": null,
            "height": null,
            "min_height": null,
            "padding": null,
            "grid_auto_rows": null,
            "grid_gap": null,
            "max_width": null,
            "order": null,
            "_view_module_version": "1.2.0",
            "grid_template_areas": null,
            "object_position": null,
            "object_fit": null,
            "grid_auto_columns": null,
            "margin": null,
            "display": null,
            "left": null
          }
        },
        "cdd386445b79428ea37e69a74a506305": {
          "model_module": "@jupyter-widgets/controls",
          "model_name": "HBoxModel",
          "state": {
            "_view_name": "HBoxView",
            "_dom_classes": [],
            "_model_name": "HBoxModel",
            "_view_module": "@jupyter-widgets/controls",
            "_model_module_version": "1.5.0",
            "_view_count": null,
            "_view_module_version": "1.5.0",
            "box_style": "",
            "layout": "IPY_MODEL_2af30b085a7c4bc58353b261161b56e0",
            "_model_module": "@jupyter-widgets/controls",
            "children": [
              "IPY_MODEL_c39f0b678efd4bdb8b82eee0eb4fb25c",
              "IPY_MODEL_bb423104071e4ba1b3f38fedd3b11f54"
            ]
          }
        },
        "2af30b085a7c4bc58353b261161b56e0": {
          "model_module": "@jupyter-widgets/base",
          "model_name": "LayoutModel",
          "state": {
            "_view_name": "LayoutView",
            "grid_template_rows": null,
            "right": null,
            "justify_content": null,
            "_view_module": "@jupyter-widgets/base",
            "overflow": null,
            "_model_module_version": "1.2.0",
            "_view_count": null,
            "flex_flow": null,
            "width": null,
            "min_width": null,
            "border": null,
            "align_items": null,
            "bottom": null,
            "_model_module": "@jupyter-widgets/base",
            "top": null,
            "grid_column": null,
            "overflow_y": null,
            "overflow_x": null,
            "grid_auto_flow": null,
            "grid_area": null,
            "grid_template_columns": null,
            "flex": null,
            "_model_name": "LayoutModel",
            "justify_items": null,
            "grid_row": null,
            "max_height": null,
            "align_content": null,
            "visibility": null,
            "align_self": null,
            "height": null,
            "min_height": null,
            "padding": null,
            "grid_auto_rows": null,
            "grid_gap": null,
            "max_width": null,
            "order": null,
            "_view_module_version": "1.2.0",
            "grid_template_areas": null,
            "object_position": null,
            "object_fit": null,
            "grid_auto_columns": null,
            "margin": null,
            "display": null,
            "left": null
          }
        },
        "c39f0b678efd4bdb8b82eee0eb4fb25c": {
          "model_module": "@jupyter-widgets/controls",
          "model_name": "FloatProgressModel",
          "state": {
            "_view_name": "ProgressView",
            "style": "IPY_MODEL_63b765a2c7dd44a0a24773a3244a3145",
            "_dom_classes": [],
            "description": "",
            "_model_name": "FloatProgressModel",
            "bar_style": "info",
            "max": 1,
            "_view_module": "@jupyter-widgets/controls",
            "_model_module_version": "1.5.0",
            "value": 1,
            "_view_count": null,
            "_view_module_version": "1.5.0",
            "orientation": "horizontal",
            "min": 0,
            "description_tooltip": null,
            "_model_module": "@jupyter-widgets/controls",
            "layout": "IPY_MODEL_9a5817905b884799b4ec6cadbb1ae7b9"
          }
        },
        "bb423104071e4ba1b3f38fedd3b11f54": {
          "model_module": "@jupyter-widgets/controls",
          "model_name": "HTMLModel",
          "state": {
            "_view_name": "HTMLView",
            "style": "IPY_MODEL_46f82b3f1328479bbe6e8fc601098463",
            "_dom_classes": [],
            "description": "",
            "_model_name": "HTMLModel",
            "placeholder": "​",
            "_view_module": "@jupyter-widgets/controls",
            "_model_module_version": "1.5.0",
            "value": " 75750/0 [01:50&lt;00:00, 580.52 examples/s]",
            "_view_count": null,
            "_view_module_version": "1.5.0",
            "description_tooltip": null,
            "_model_module": "@jupyter-widgets/controls",
            "layout": "IPY_MODEL_61801332e4a74f68969d888633b39895"
          }
        },
        "63b765a2c7dd44a0a24773a3244a3145": {
          "model_module": "@jupyter-widgets/controls",
          "model_name": "ProgressStyleModel",
          "state": {
            "_view_name": "StyleView",
            "_model_name": "ProgressStyleModel",
            "description_width": "initial",
            "_view_module": "@jupyter-widgets/base",
            "_model_module_version": "1.5.0",
            "_view_count": null,
            "_view_module_version": "1.2.0",
            "bar_color": null,
            "_model_module": "@jupyter-widgets/controls"
          }
        },
        "9a5817905b884799b4ec6cadbb1ae7b9": {
          "model_module": "@jupyter-widgets/base",
          "model_name": "LayoutModel",
          "state": {
            "_view_name": "LayoutView",
            "grid_template_rows": null,
            "right": null,
            "justify_content": null,
            "_view_module": "@jupyter-widgets/base",
            "overflow": null,
            "_model_module_version": "1.2.0",
            "_view_count": null,
            "flex_flow": null,
            "width": null,
            "min_width": null,
            "border": null,
            "align_items": null,
            "bottom": null,
            "_model_module": "@jupyter-widgets/base",
            "top": null,
            "grid_column": null,
            "overflow_y": null,
            "overflow_x": null,
            "grid_auto_flow": null,
            "grid_area": null,
            "grid_template_columns": null,
            "flex": null,
            "_model_name": "LayoutModel",
            "justify_items": null,
            "grid_row": null,
            "max_height": null,
            "align_content": null,
            "visibility": null,
            "align_self": null,
            "height": null,
            "min_height": null,
            "padding": null,
            "grid_auto_rows": null,
            "grid_gap": null,
            "max_width": null,
            "order": null,
            "_view_module_version": "1.2.0",
            "grid_template_areas": null,
            "object_position": null,
            "object_fit": null,
            "grid_auto_columns": null,
            "margin": null,
            "display": null,
            "left": null
          }
        },
        "46f82b3f1328479bbe6e8fc601098463": {
          "model_module": "@jupyter-widgets/controls",
          "model_name": "DescriptionStyleModel",
          "state": {
            "_view_name": "StyleView",
            "_model_name": "DescriptionStyleModel",
            "description_width": "",
            "_view_module": "@jupyter-widgets/base",
            "_model_module_version": "1.5.0",
            "_view_count": null,
            "_view_module_version": "1.2.0",
            "_model_module": "@jupyter-widgets/controls"
          }
        },
        "61801332e4a74f68969d888633b39895": {
          "model_module": "@jupyter-widgets/base",
          "model_name": "LayoutModel",
          "state": {
            "_view_name": "LayoutView",
            "grid_template_rows": null,
            "right": null,
            "justify_content": null,
            "_view_module": "@jupyter-widgets/base",
            "overflow": null,
            "_model_module_version": "1.2.0",
            "_view_count": null,
            "flex_flow": null,
            "width": null,
            "min_width": null,
            "border": null,
            "align_items": null,
            "bottom": null,
            "_model_module": "@jupyter-widgets/base",
            "top": null,
            "grid_column": null,
            "overflow_y": null,
            "overflow_x": null,
            "grid_auto_flow": null,
            "grid_area": null,
            "grid_template_columns": null,
            "flex": null,
            "_model_name": "LayoutModel",
            "justify_items": null,
            "grid_row": null,
            "max_height": null,
            "align_content": null,
            "visibility": null,
            "align_self": null,
            "height": null,
            "min_height": null,
            "padding": null,
            "grid_auto_rows": null,
            "grid_gap": null,
            "max_width": null,
            "order": null,
            "_view_module_version": "1.2.0",
            "grid_template_areas": null,
            "object_position": null,
            "object_fit": null,
            "grid_auto_columns": null,
            "margin": null,
            "display": null,
            "left": null
          }
        },
        "6b3ca95ca7bc4252b0ed282dcf869438": {
          "model_module": "@jupyter-widgets/controls",
          "model_name": "HBoxModel",
          "state": {
            "_view_name": "HBoxView",
            "_dom_classes": [],
            "_model_name": "HBoxModel",
            "_view_module": "@jupyter-widgets/controls",
            "_model_module_version": "1.5.0",
            "_view_count": null,
            "_view_module_version": "1.5.0",
            "box_style": "",
            "layout": "IPY_MODEL_3f84310e604b4e28aee6f8a1cc09374d",
            "_model_module": "@jupyter-widgets/controls",
            "children": [
              "IPY_MODEL_259ad918b8db41c39b08d9e168636e19",
              "IPY_MODEL_3646f3e5ab8149e89718e46af80a2f7e"
            ]
          }
        },
        "3f84310e604b4e28aee6f8a1cc09374d": {
          "model_module": "@jupyter-widgets/base",
          "model_name": "LayoutModel",
          "state": {
            "_view_name": "LayoutView",
            "grid_template_rows": null,
            "right": null,
            "justify_content": null,
            "_view_module": "@jupyter-widgets/base",
            "overflow": null,
            "_model_module_version": "1.2.0",
            "_view_count": null,
            "flex_flow": null,
            "width": null,
            "min_width": null,
            "border": null,
            "align_items": null,
            "bottom": null,
            "_model_module": "@jupyter-widgets/base",
            "top": null,
            "grid_column": null,
            "overflow_y": null,
            "overflow_x": null,
            "grid_auto_flow": null,
            "grid_area": null,
            "grid_template_columns": null,
            "flex": null,
            "_model_name": "LayoutModel",
            "justify_items": null,
            "grid_row": null,
            "max_height": null,
            "align_content": null,
            "visibility": null,
            "align_self": null,
            "height": null,
            "min_height": null,
            "padding": null,
            "grid_auto_rows": null,
            "grid_gap": null,
            "max_width": null,
            "order": null,
            "_view_module_version": "1.2.0",
            "grid_template_areas": null,
            "object_position": null,
            "object_fit": null,
            "grid_auto_columns": null,
            "margin": null,
            "display": null,
            "left": null
          }
        },
        "259ad918b8db41c39b08d9e168636e19": {
          "model_module": "@jupyter-widgets/controls",
          "model_name": "FloatProgressModel",
          "state": {
            "_view_name": "ProgressView",
            "style": "IPY_MODEL_f3e2b48dab044d00b0353e8660d15968",
            "_dom_classes": [],
            "description": "100%",
            "_model_name": "FloatProgressModel",
            "bar_style": "danger",
            "max": 75750,
            "_view_module": "@jupyter-widgets/controls",
            "_model_module_version": "1.5.0",
            "value": 75680,
            "_view_count": null,
            "_view_module_version": "1.5.0",
            "orientation": "horizontal",
            "min": 0,
            "description_tooltip": null,
            "_model_module": "@jupyter-widgets/controls",
            "layout": "IPY_MODEL_b9b9ffc1622c4a8ba3afee75df7d246f"
          }
        },
        "3646f3e5ab8149e89718e46af80a2f7e": {
          "model_module": "@jupyter-widgets/controls",
          "model_name": "HTMLModel",
          "state": {
            "_view_name": "HTMLView",
            "style": "IPY_MODEL_0e1bf531b48f4cc8b0f0e44615059cf9",
            "_dom_classes": [],
            "description": "",
            "_model_name": "HTMLModel",
            "placeholder": "​",
            "_view_module": "@jupyter-widgets/controls",
            "_model_module_version": "1.5.0",
            "value": " 75680/75750 [01:40&lt;00:00, 807.43 examples/s]",
            "_view_count": null,
            "_view_module_version": "1.5.0",
            "description_tooltip": null,
            "_model_module": "@jupyter-widgets/controls",
            "layout": "IPY_MODEL_f248a9c2ed34489f86202452283937c1"
          }
        },
        "f3e2b48dab044d00b0353e8660d15968": {
          "model_module": "@jupyter-widgets/controls",
          "model_name": "ProgressStyleModel",
          "state": {
            "_view_name": "StyleView",
            "_model_name": "ProgressStyleModel",
            "description_width": "initial",
            "_view_module": "@jupyter-widgets/base",
            "_model_module_version": "1.5.0",
            "_view_count": null,
            "_view_module_version": "1.2.0",
            "bar_color": null,
            "_model_module": "@jupyter-widgets/controls"
          }
        },
        "b9b9ffc1622c4a8ba3afee75df7d246f": {
          "model_module": "@jupyter-widgets/base",
          "model_name": "LayoutModel",
          "state": {
            "_view_name": "LayoutView",
            "grid_template_rows": null,
            "right": null,
            "justify_content": null,
            "_view_module": "@jupyter-widgets/base",
            "overflow": null,
            "_model_module_version": "1.2.0",
            "_view_count": null,
            "flex_flow": null,
            "width": null,
            "min_width": null,
            "border": null,
            "align_items": null,
            "bottom": null,
            "_model_module": "@jupyter-widgets/base",
            "top": null,
            "grid_column": null,
            "overflow_y": null,
            "overflow_x": null,
            "grid_auto_flow": null,
            "grid_area": null,
            "grid_template_columns": null,
            "flex": null,
            "_model_name": "LayoutModel",
            "justify_items": null,
            "grid_row": null,
            "max_height": null,
            "align_content": null,
            "visibility": null,
            "align_self": null,
            "height": null,
            "min_height": null,
            "padding": null,
            "grid_auto_rows": null,
            "grid_gap": null,
            "max_width": null,
            "order": null,
            "_view_module_version": "1.2.0",
            "grid_template_areas": null,
            "object_position": null,
            "object_fit": null,
            "grid_auto_columns": null,
            "margin": null,
            "display": null,
            "left": null
          }
        },
        "0e1bf531b48f4cc8b0f0e44615059cf9": {
          "model_module": "@jupyter-widgets/controls",
          "model_name": "DescriptionStyleModel",
          "state": {
            "_view_name": "StyleView",
            "_model_name": "DescriptionStyleModel",
            "description_width": "",
            "_view_module": "@jupyter-widgets/base",
            "_model_module_version": "1.5.0",
            "_view_count": null,
            "_view_module_version": "1.2.0",
            "_model_module": "@jupyter-widgets/controls"
          }
        },
        "f248a9c2ed34489f86202452283937c1": {
          "model_module": "@jupyter-widgets/base",
          "model_name": "LayoutModel",
          "state": {
            "_view_name": "LayoutView",
            "grid_template_rows": null,
            "right": null,
            "justify_content": null,
            "_view_module": "@jupyter-widgets/base",
            "overflow": null,
            "_model_module_version": "1.2.0",
            "_view_count": null,
            "flex_flow": null,
            "width": null,
            "min_width": null,
            "border": null,
            "align_items": null,
            "bottom": null,
            "_model_module": "@jupyter-widgets/base",
            "top": null,
            "grid_column": null,
            "overflow_y": null,
            "overflow_x": null,
            "grid_auto_flow": null,
            "grid_area": null,
            "grid_template_columns": null,
            "flex": null,
            "_model_name": "LayoutModel",
            "justify_items": null,
            "grid_row": null,
            "max_height": null,
            "align_content": null,
            "visibility": null,
            "align_self": null,
            "height": null,
            "min_height": null,
            "padding": null,
            "grid_auto_rows": null,
            "grid_gap": null,
            "max_width": null,
            "order": null,
            "_view_module_version": "1.2.0",
            "grid_template_areas": null,
            "object_position": null,
            "object_fit": null,
            "grid_auto_columns": null,
            "margin": null,
            "display": null,
            "left": null
          }
        },
        "2b2ba987513841ba9ead5f9e8043f7be": {
          "model_module": "@jupyter-widgets/controls",
          "model_name": "HBoxModel",
          "state": {
            "_view_name": "HBoxView",
            "_dom_classes": [],
            "_model_name": "HBoxModel",
            "_view_module": "@jupyter-widgets/controls",
            "_model_module_version": "1.5.0",
            "_view_count": null,
            "_view_module_version": "1.5.0",
            "box_style": "",
            "layout": "IPY_MODEL_419621cffe874f088e6ba40c69957d8a",
            "_model_module": "@jupyter-widgets/controls",
            "children": [
              "IPY_MODEL_ff07c4da0506417b930a58c119d4605a",
              "IPY_MODEL_3013232ee50344c5a7e44b44ea0ddea3"
            ]
          }
        },
        "419621cffe874f088e6ba40c69957d8a": {
          "model_module": "@jupyter-widgets/base",
          "model_name": "LayoutModel",
          "state": {
            "_view_name": "LayoutView",
            "grid_template_rows": null,
            "right": null,
            "justify_content": null,
            "_view_module": "@jupyter-widgets/base",
            "overflow": null,
            "_model_module_version": "1.2.0",
            "_view_count": null,
            "flex_flow": null,
            "width": null,
            "min_width": null,
            "border": null,
            "align_items": null,
            "bottom": null,
            "_model_module": "@jupyter-widgets/base",
            "top": null,
            "grid_column": null,
            "overflow_y": null,
            "overflow_x": null,
            "grid_auto_flow": null,
            "grid_area": null,
            "grid_template_columns": null,
            "flex": null,
            "_model_name": "LayoutModel",
            "justify_items": null,
            "grid_row": null,
            "max_height": null,
            "align_content": null,
            "visibility": null,
            "align_self": null,
            "height": null,
            "min_height": null,
            "padding": null,
            "grid_auto_rows": null,
            "grid_gap": null,
            "max_width": null,
            "order": null,
            "_view_module_version": "1.2.0",
            "grid_template_areas": null,
            "object_position": null,
            "object_fit": null,
            "grid_auto_columns": null,
            "margin": null,
            "display": null,
            "left": null
          }
        },
        "ff07c4da0506417b930a58c119d4605a": {
          "model_module": "@jupyter-widgets/controls",
          "model_name": "FloatProgressModel",
          "state": {
            "_view_name": "ProgressView",
            "style": "IPY_MODEL_e0d915074e4c4d9d880355bbd87c8a92",
            "_dom_classes": [],
            "description": "",
            "_model_name": "FloatProgressModel",
            "bar_style": "info",
            "max": 1,
            "_view_module": "@jupyter-widgets/controls",
            "_model_module_version": "1.5.0",
            "value": 1,
            "_view_count": null,
            "_view_module_version": "1.5.0",
            "orientation": "horizontal",
            "min": 0,
            "description_tooltip": null,
            "_model_module": "@jupyter-widgets/controls",
            "layout": "IPY_MODEL_e967520cb7be42ee869010e3d2518058"
          }
        },
        "3013232ee50344c5a7e44b44ea0ddea3": {
          "model_module": "@jupyter-widgets/controls",
          "model_name": "HTMLModel",
          "state": {
            "_view_name": "HTMLView",
            "style": "IPY_MODEL_52b45686d3ed4090920f3223cc265702",
            "_dom_classes": [],
            "description": "",
            "_model_name": "HTMLModel",
            "placeholder": "​",
            "_view_module": "@jupyter-widgets/controls",
            "_model_module_version": "1.5.0",
            "value": " 25250/0 [00:53&lt;00:00, 553.20 examples/s]",
            "_view_count": null,
            "_view_module_version": "1.5.0",
            "description_tooltip": null,
            "_model_module": "@jupyter-widgets/controls",
            "layout": "IPY_MODEL_76e60fe731a14eada39d432efb17aff1"
          }
        },
        "e0d915074e4c4d9d880355bbd87c8a92": {
          "model_module": "@jupyter-widgets/controls",
          "model_name": "ProgressStyleModel",
          "state": {
            "_view_name": "StyleView",
            "_model_name": "ProgressStyleModel",
            "description_width": "initial",
            "_view_module": "@jupyter-widgets/base",
            "_model_module_version": "1.5.0",
            "_view_count": null,
            "_view_module_version": "1.2.0",
            "bar_color": null,
            "_model_module": "@jupyter-widgets/controls"
          }
        },
        "e967520cb7be42ee869010e3d2518058": {
          "model_module": "@jupyter-widgets/base",
          "model_name": "LayoutModel",
          "state": {
            "_view_name": "LayoutView",
            "grid_template_rows": null,
            "right": null,
            "justify_content": null,
            "_view_module": "@jupyter-widgets/base",
            "overflow": null,
            "_model_module_version": "1.2.0",
            "_view_count": null,
            "flex_flow": null,
            "width": null,
            "min_width": null,
            "border": null,
            "align_items": null,
            "bottom": null,
            "_model_module": "@jupyter-widgets/base",
            "top": null,
            "grid_column": null,
            "overflow_y": null,
            "overflow_x": null,
            "grid_auto_flow": null,
            "grid_area": null,
            "grid_template_columns": null,
            "flex": null,
            "_model_name": "LayoutModel",
            "justify_items": null,
            "grid_row": null,
            "max_height": null,
            "align_content": null,
            "visibility": null,
            "align_self": null,
            "height": null,
            "min_height": null,
            "padding": null,
            "grid_auto_rows": null,
            "grid_gap": null,
            "max_width": null,
            "order": null,
            "_view_module_version": "1.2.0",
            "grid_template_areas": null,
            "object_position": null,
            "object_fit": null,
            "grid_auto_columns": null,
            "margin": null,
            "display": null,
            "left": null
          }
        },
        "52b45686d3ed4090920f3223cc265702": {
          "model_module": "@jupyter-widgets/controls",
          "model_name": "DescriptionStyleModel",
          "state": {
            "_view_name": "StyleView",
            "_model_name": "DescriptionStyleModel",
            "description_width": "",
            "_view_module": "@jupyter-widgets/base",
            "_model_module_version": "1.5.0",
            "_view_count": null,
            "_view_module_version": "1.2.0",
            "_model_module": "@jupyter-widgets/controls"
          }
        },
        "76e60fe731a14eada39d432efb17aff1": {
          "model_module": "@jupyter-widgets/base",
          "model_name": "LayoutModel",
          "state": {
            "_view_name": "LayoutView",
            "grid_template_rows": null,
            "right": null,
            "justify_content": null,
            "_view_module": "@jupyter-widgets/base",
            "overflow": null,
            "_model_module_version": "1.2.0",
            "_view_count": null,
            "flex_flow": null,
            "width": null,
            "min_width": null,
            "border": null,
            "align_items": null,
            "bottom": null,
            "_model_module": "@jupyter-widgets/base",
            "top": null,
            "grid_column": null,
            "overflow_y": null,
            "overflow_x": null,
            "grid_auto_flow": null,
            "grid_area": null,
            "grid_template_columns": null,
            "flex": null,
            "_model_name": "LayoutModel",
            "justify_items": null,
            "grid_row": null,
            "max_height": null,
            "align_content": null,
            "visibility": null,
            "align_self": null,
            "height": null,
            "min_height": null,
            "padding": null,
            "grid_auto_rows": null,
            "grid_gap": null,
            "max_width": null,
            "order": null,
            "_view_module_version": "1.2.0",
            "grid_template_areas": null,
            "object_position": null,
            "object_fit": null,
            "grid_auto_columns": null,
            "margin": null,
            "display": null,
            "left": null
          }
        },
        "0755b85909b647b1918d47ea5662850d": {
          "model_module": "@jupyter-widgets/controls",
          "model_name": "HBoxModel",
          "state": {
            "_view_name": "HBoxView",
            "_dom_classes": [],
            "_model_name": "HBoxModel",
            "_view_module": "@jupyter-widgets/controls",
            "_model_module_version": "1.5.0",
            "_view_count": null,
            "_view_module_version": "1.5.0",
            "box_style": "",
            "layout": "IPY_MODEL_6a2bb482e55f4132ac194c7abfe9f5c4",
            "_model_module": "@jupyter-widgets/controls",
            "children": [
              "IPY_MODEL_eb3c2666e4b848cc9efe10130402501b",
              "IPY_MODEL_099b6c0359da4ee788a2ee894a06899d"
            ]
          }
        },
        "6a2bb482e55f4132ac194c7abfe9f5c4": {
          "model_module": "@jupyter-widgets/base",
          "model_name": "LayoutModel",
          "state": {
            "_view_name": "LayoutView",
            "grid_template_rows": null,
            "right": null,
            "justify_content": null,
            "_view_module": "@jupyter-widgets/base",
            "overflow": null,
            "_model_module_version": "1.2.0",
            "_view_count": null,
            "flex_flow": null,
            "width": null,
            "min_width": null,
            "border": null,
            "align_items": null,
            "bottom": null,
            "_model_module": "@jupyter-widgets/base",
            "top": null,
            "grid_column": null,
            "overflow_y": null,
            "overflow_x": null,
            "grid_auto_flow": null,
            "grid_area": null,
            "grid_template_columns": null,
            "flex": null,
            "_model_name": "LayoutModel",
            "justify_items": null,
            "grid_row": null,
            "max_height": null,
            "align_content": null,
            "visibility": null,
            "align_self": null,
            "height": null,
            "min_height": null,
            "padding": null,
            "grid_auto_rows": null,
            "grid_gap": null,
            "max_width": null,
            "order": null,
            "_view_module_version": "1.2.0",
            "grid_template_areas": null,
            "object_position": null,
            "object_fit": null,
            "grid_auto_columns": null,
            "margin": null,
            "display": null,
            "left": null
          }
        },
        "eb3c2666e4b848cc9efe10130402501b": {
          "model_module": "@jupyter-widgets/controls",
          "model_name": "FloatProgressModel",
          "state": {
            "_view_name": "ProgressView",
            "style": "IPY_MODEL_58cde126ec41413b9baaf571765d3731",
            "_dom_classes": [],
            "description": " 99%",
            "_model_name": "FloatProgressModel",
            "bar_style": "danger",
            "max": 25250,
            "_view_module": "@jupyter-widgets/controls",
            "_model_module_version": "1.5.0",
            "value": 24909,
            "_view_count": null,
            "_view_module_version": "1.5.0",
            "orientation": "horizontal",
            "min": 0,
            "description_tooltip": null,
            "_model_module": "@jupyter-widgets/controls",
            "layout": "IPY_MODEL_1c1c458ed0f6497897878d7d689abccb"
          }
        },
        "099b6c0359da4ee788a2ee894a06899d": {
          "model_module": "@jupyter-widgets/controls",
          "model_name": "HTMLModel",
          "state": {
            "_view_name": "HTMLView",
            "style": "IPY_MODEL_367aeb7ee3ec42e0940499edc0be48c7",
            "_dom_classes": [],
            "description": "",
            "_model_name": "HTMLModel",
            "placeholder": "​",
            "_view_module": "@jupyter-widgets/controls",
            "_model_module_version": "1.5.0",
            "value": " 24909/25250 [00:38&lt;00:03, 91.73 examples/s]",
            "_view_count": null,
            "_view_module_version": "1.5.0",
            "description_tooltip": null,
            "_model_module": "@jupyter-widgets/controls",
            "layout": "IPY_MODEL_c5cdfb4ebe284b8fb29c58243a166993"
          }
        },
        "58cde126ec41413b9baaf571765d3731": {
          "model_module": "@jupyter-widgets/controls",
          "model_name": "ProgressStyleModel",
          "state": {
            "_view_name": "StyleView",
            "_model_name": "ProgressStyleModel",
            "description_width": "initial",
            "_view_module": "@jupyter-widgets/base",
            "_model_module_version": "1.5.0",
            "_view_count": null,
            "_view_module_version": "1.2.0",
            "bar_color": null,
            "_model_module": "@jupyter-widgets/controls"
          }
        },
        "1c1c458ed0f6497897878d7d689abccb": {
          "model_module": "@jupyter-widgets/base",
          "model_name": "LayoutModel",
          "state": {
            "_view_name": "LayoutView",
            "grid_template_rows": null,
            "right": null,
            "justify_content": null,
            "_view_module": "@jupyter-widgets/base",
            "overflow": null,
            "_model_module_version": "1.2.0",
            "_view_count": null,
            "flex_flow": null,
            "width": null,
            "min_width": null,
            "border": null,
            "align_items": null,
            "bottom": null,
            "_model_module": "@jupyter-widgets/base",
            "top": null,
            "grid_column": null,
            "overflow_y": null,
            "overflow_x": null,
            "grid_auto_flow": null,
            "grid_area": null,
            "grid_template_columns": null,
            "flex": null,
            "_model_name": "LayoutModel",
            "justify_items": null,
            "grid_row": null,
            "max_height": null,
            "align_content": null,
            "visibility": null,
            "align_self": null,
            "height": null,
            "min_height": null,
            "padding": null,
            "grid_auto_rows": null,
            "grid_gap": null,
            "max_width": null,
            "order": null,
            "_view_module_version": "1.2.0",
            "grid_template_areas": null,
            "object_position": null,
            "object_fit": null,
            "grid_auto_columns": null,
            "margin": null,
            "display": null,
            "left": null
          }
        },
        "367aeb7ee3ec42e0940499edc0be48c7": {
          "model_module": "@jupyter-widgets/controls",
          "model_name": "DescriptionStyleModel",
          "state": {
            "_view_name": "StyleView",
            "_model_name": "DescriptionStyleModel",
            "description_width": "",
            "_view_module": "@jupyter-widgets/base",
            "_model_module_version": "1.5.0",
            "_view_count": null,
            "_view_module_version": "1.2.0",
            "_model_module": "@jupyter-widgets/controls"
          }
        },
        "c5cdfb4ebe284b8fb29c58243a166993": {
          "model_module": "@jupyter-widgets/base",
          "model_name": "LayoutModel",
          "state": {
            "_view_name": "LayoutView",
            "grid_template_rows": null,
            "right": null,
            "justify_content": null,
            "_view_module": "@jupyter-widgets/base",
            "overflow": null,
            "_model_module_version": "1.2.0",
            "_view_count": null,
            "flex_flow": null,
            "width": null,
            "min_width": null,
            "border": null,
            "align_items": null,
            "bottom": null,
            "_model_module": "@jupyter-widgets/base",
            "top": null,
            "grid_column": null,
            "overflow_y": null,
            "overflow_x": null,
            "grid_auto_flow": null,
            "grid_area": null,
            "grid_template_columns": null,
            "flex": null,
            "_model_name": "LayoutModel",
            "justify_items": null,
            "grid_row": null,
            "max_height": null,
            "align_content": null,
            "visibility": null,
            "align_self": null,
            "height": null,
            "min_height": null,
            "padding": null,
            "grid_auto_rows": null,
            "grid_gap": null,
            "max_width": null,
            "order": null,
            "_view_module_version": "1.2.0",
            "grid_template_areas": null,
            "object_position": null,
            "object_fit": null,
            "grid_auto_columns": null,
            "margin": null,
            "display": null,
            "left": null
          }
        }
      }
    }
  },
  "cells": [
    {
      "cell_type": "markdown",
      "metadata": {
        "id": "view-in-github",
        "colab_type": "text"
      },
      "source": [
        "<a href=\"https://colab.research.google.com/github/gpdsec/Transfer-Learning/blob/main/FoodClassification101.ipynb\" target=\"_parent\"><img src=\"https://colab.research.google.com/assets/colab-badge.svg\" alt=\"Open In Colab\"/></a>"
      ]
    },
    {
      "cell_type": "markdown",
      "metadata": {
        "id": "cLsRiPMlyBis"
      },
      "source": [
        "# **Checking GPU**"
      ]
    },
    {
      "cell_type": "code",
      "metadata": {
        "id": "L6Wp1nCeQC-a",
        "colab": {
          "base_uri": "https://localhost:8080/"
        },
        "outputId": "63e3fd5f-5e32-4abc-b3f4-98594a3acb68"
      },
      "source": [
        "!nvidia-smi -L"
      ],
      "execution_count": 4,
      "outputs": [
        {
          "output_type": "stream",
          "text": [
            "GPU 0: Tesla T4 (UUID: GPU-f06fd4b7-5694-0e49-08a2-f59b30775b0f)\n"
          ],
          "name": "stdout"
        }
      ]
    },
    {
      "cell_type": "markdown",
      "metadata": {
        "id": "XQNvzNcqQPvV"
      },
      "source": [
        "## **1. Importing Libraries**"
      ]
    },
    {
      "cell_type": "code",
      "metadata": {
        "id": "Vicqnv87QYeO",
        "colab": {
          "base_uri": "https://localhost:8080/"
        },
        "outputId": "47ca63d5-f170-4b73-9657-699218432231"
      },
      "source": [
        "import tensorflow as tf\n",
        "from tensorflow.keras.layers import Dense, Softmax, Input, GlobalAveragePooling2D\n",
        "from tensorflow.keras import mixed_precision, Sequential, layers, Model\n",
        "from tensorflow.keras.applications import InceptionV3\n",
        "from tensorflow.keras.callbacks import TensorBoard, EarlyStopping, ModelCheckpoint, LearningRateScheduler\n",
        "from tensorflow.keras.optimizers import Adam, SGD\n",
        "from tensorflow.keras.layers.experimental import preprocessing\n",
        "import numpy as np\n",
        "import pandas as pd\n",
        "import matplotlib.pyplot as plt\n",
        "import seaborn as sbn\n",
        "import tensorflow_datasets as tfds\n",
        "from tqdm.notebook import tqdm\n",
        "import datetime\n",
        "%load_ext tensorboard"
      ],
      "execution_count": 21,
      "outputs": [
        {
          "output_type": "stream",
          "text": [
            "The tensorboard extension is already loaded. To reload it, use:\n",
            "  %reload_ext tensorboard\n"
          ],
          "name": "stdout"
        }
      ]
    },
    {
      "cell_type": "code",
      "metadata": {
        "id": "xc9dhaw1hQF9"
      },
      "source": [
        "%reload_ext tensorboard"
      ],
      "execution_count": 46,
      "outputs": []
    },
    {
      "cell_type": "markdown",
      "metadata": {
        "id": "SZ7f26cCQr3q"
      },
      "source": [
        "## **2. Loading Data from TFDS**"
      ]
    },
    {
      "cell_type": "code",
      "metadata": {
        "id": "Q7dyuYG9QqlG",
        "colab": {
          "base_uri": "https://localhost:8080/",
          "height": 381,
          "referenced_widgets": [
            "aed34b2b852d4b068bd397db1feddbd0",
            "6b0be9cebe9c4802bb9fc5d0d6767556",
            "e1082adb82b24b24ae126487eb86a8fc",
            "10f5529f19634bf7b50ea00dc8262aaa",
            "c2a991b33d5f45989cdbeba1d0360877",
            "f6f7f2451ede41418f493ffef58b6b0c",
            "48db2b1591f341a785320bdb093fdc13",
            "239f40048b31443180610edbd741b183",
            "1b449545a8bd4c04add4a9984021010d",
            "0f088e90c5ce4a34972c7361e1a84b31",
            "a6b6fb6f93c14b50b8d96195a344d2f4",
            "bc4936235e22473c91edf0c82f61c112",
            "ed12c70f326d4b198f88df04ea60b75f",
            "046febced836438ba3c03abc8537be67",
            "8fe5820e2116418a98f79debc5074a3f",
            "01cbb191ecdf44039a7238a4a6018d34",
            "1b4aca8565eb46b9834a373feabc7687",
            "64d53048075d4aeab53e27270f3ce03c",
            "3876a6a41737474cac1d1808aa279595",
            "89f2aefd761c47b680e8998c3e611e3a",
            "9465fb968a4847df8ef8fe0e3e45dd4b",
            "00083f7ae8dd4c4aba5eccfe8c8ce341",
            "1c199ef9a7db44bc90da4708dbb8a302",
            "62dbcdb64e2a4e138966c804ab6f0baf",
            "cdd386445b79428ea37e69a74a506305",
            "2af30b085a7c4bc58353b261161b56e0",
            "c39f0b678efd4bdb8b82eee0eb4fb25c",
            "bb423104071e4ba1b3f38fedd3b11f54",
            "63b765a2c7dd44a0a24773a3244a3145",
            "9a5817905b884799b4ec6cadbb1ae7b9",
            "46f82b3f1328479bbe6e8fc601098463",
            "61801332e4a74f68969d888633b39895",
            "6b3ca95ca7bc4252b0ed282dcf869438",
            "3f84310e604b4e28aee6f8a1cc09374d",
            "259ad918b8db41c39b08d9e168636e19",
            "3646f3e5ab8149e89718e46af80a2f7e",
            "f3e2b48dab044d00b0353e8660d15968",
            "b9b9ffc1622c4a8ba3afee75df7d246f",
            "0e1bf531b48f4cc8b0f0e44615059cf9",
            "f248a9c2ed34489f86202452283937c1",
            "2b2ba987513841ba9ead5f9e8043f7be",
            "419621cffe874f088e6ba40c69957d8a",
            "ff07c4da0506417b930a58c119d4605a",
            "3013232ee50344c5a7e44b44ea0ddea3",
            "e0d915074e4c4d9d880355bbd87c8a92",
            "e967520cb7be42ee869010e3d2518058",
            "52b45686d3ed4090920f3223cc265702",
            "76e60fe731a14eada39d432efb17aff1",
            "0755b85909b647b1918d47ea5662850d",
            "6a2bb482e55f4132ac194c7abfe9f5c4",
            "eb3c2666e4b848cc9efe10130402501b",
            "099b6c0359da4ee788a2ee894a06899d",
            "58cde126ec41413b9baaf571765d3731",
            "1c1c458ed0f6497897878d7d689abccb",
            "367aeb7ee3ec42e0940499edc0be48c7",
            "c5cdfb4ebe284b8fb29c58243a166993"
          ]
        },
        "outputId": "c894d055-b5d3-409d-f680-b773c3140b70"
      },
      "source": [
        "(train_ds, test_ds), info = tfds.load('food101',\n",
        "                                      split=['train', 'validation'],\n",
        "                                      with_info=True,\n",
        "                                      as_supervised=True)"
      ],
      "execution_count": 6,
      "outputs": [
        {
          "output_type": "stream",
          "text": [
            "\u001b[1mDownloading and preparing dataset food101/2.0.0 (download: 4.65 GiB, generated: Unknown size, total: 4.65 GiB) to /root/tensorflow_datasets/food101/2.0.0...\u001b[0m\n"
          ],
          "name": "stdout"
        },
        {
          "output_type": "display_data",
          "data": {
            "application/vnd.jupyter.widget-view+json": {
              "model_id": "aed34b2b852d4b068bd397db1feddbd0",
              "version_minor": 0,
              "version_major": 2
            },
            "text/plain": [
              "HBox(children=(FloatProgress(value=1.0, bar_style='info', description='Dl Completed...', max=1.0, style=Progre…"
            ]
          },
          "metadata": {
            "tags": []
          }
        },
        {
          "output_type": "display_data",
          "data": {
            "application/vnd.jupyter.widget-view+json": {
              "model_id": "1b449545a8bd4c04add4a9984021010d",
              "version_minor": 0,
              "version_major": 2
            },
            "text/plain": [
              "HBox(children=(FloatProgress(value=1.0, bar_style='info', description='Dl Size...', max=1.0, style=ProgressSty…"
            ]
          },
          "metadata": {
            "tags": []
          }
        },
        {
          "output_type": "display_data",
          "data": {
            "application/vnd.jupyter.widget-view+json": {
              "model_id": "1b4aca8565eb46b9834a373feabc7687",
              "version_minor": 0,
              "version_major": 2
            },
            "text/plain": [
              "HBox(children=(FloatProgress(value=1.0, bar_style='info', description='Extraction completed...', max=1.0, styl…"
            ]
          },
          "metadata": {
            "tags": []
          }
        },
        {
          "output_type": "stream",
          "text": [
            "\n",
            "\n",
            "\n",
            "\n",
            "\n",
            "\n"
          ],
          "name": "stdout"
        },
        {
          "output_type": "display_data",
          "data": {
            "application/vnd.jupyter.widget-view+json": {
              "model_id": "cdd386445b79428ea37e69a74a506305",
              "version_minor": 0,
              "version_major": 2
            },
            "text/plain": [
              "HBox(children=(FloatProgress(value=1.0, bar_style='info', max=1.0), HTML(value='')))"
            ]
          },
          "metadata": {
            "tags": []
          }
        },
        {
          "output_type": "stream",
          "text": [
            "\rShuffling and writing examples to /root/tensorflow_datasets/food101/2.0.0.incompleteDTPYKQ/food101-train.tfrecord\n"
          ],
          "name": "stdout"
        },
        {
          "output_type": "display_data",
          "data": {
            "application/vnd.jupyter.widget-view+json": {
              "model_id": "6b3ca95ca7bc4252b0ed282dcf869438",
              "version_minor": 0,
              "version_major": 2
            },
            "text/plain": [
              "HBox(children=(FloatProgress(value=0.0, max=75750.0), HTML(value='')))"
            ]
          },
          "metadata": {
            "tags": []
          }
        },
        {
          "output_type": "display_data",
          "data": {
            "application/vnd.jupyter.widget-view+json": {
              "model_id": "2b2ba987513841ba9ead5f9e8043f7be",
              "version_minor": 0,
              "version_major": 2
            },
            "text/plain": [
              "HBox(children=(FloatProgress(value=1.0, bar_style='info', max=1.0), HTML(value='')))"
            ]
          },
          "metadata": {
            "tags": []
          }
        },
        {
          "output_type": "stream",
          "text": [
            "Shuffling and writing examples to /root/tensorflow_datasets/food101/2.0.0.incompleteDTPYKQ/food101-validation.tfrecord\n"
          ],
          "name": "stdout"
        },
        {
          "output_type": "display_data",
          "data": {
            "application/vnd.jupyter.widget-view+json": {
              "model_id": "0755b85909b647b1918d47ea5662850d",
              "version_minor": 0,
              "version_major": 2
            },
            "text/plain": [
              "HBox(children=(FloatProgress(value=0.0, max=25250.0), HTML(value='')))"
            ]
          },
          "metadata": {
            "tags": []
          }
        },
        {
          "output_type": "stream",
          "text": [
            "\u001b[1mDataset food101 downloaded and prepared to /root/tensorflow_datasets/food101/2.0.0. Subsequent calls will reuse this data.\u001b[0m\n"
          ],
          "name": "stdout"
        }
      ]
    },
    {
      "cell_type": "code",
      "metadata": {
        "id": "y-KeDAUxQkIf",
        "colab": {
          "base_uri": "https://localhost:8080/"
        },
        "outputId": "1972f1b2-a56b-4b6a-e55f-29e773a4ad52"
      },
      "source": [
        "info"
      ],
      "execution_count": 7,
      "outputs": [
        {
          "output_type": "execute_result",
          "data": {
            "text/plain": [
              "tfds.core.DatasetInfo(\n",
              "    name='food101',\n",
              "    version=2.0.0,\n",
              "    description='This dataset consists of 101 food categories, with 101'000 images. For each class, 250 manually reviewed test images are provided as well as 750 training images. On purpose, the training images were not cleaned, and thus still contain some amount of noise. This comes mostly in the form of intense colors and sometimes wrong labels. All images were rescaled to have a maximum side length of 512 pixels.',\n",
              "    homepage='https://www.vision.ee.ethz.ch/datasets_extra/food-101/',\n",
              "    features=FeaturesDict({\n",
              "        'image': Image(shape=(None, None, 3), dtype=tf.uint8),\n",
              "        'label': ClassLabel(shape=(), dtype=tf.int64, num_classes=101),\n",
              "    }),\n",
              "    total_num_examples=101000,\n",
              "    splits={\n",
              "        'train': 75750,\n",
              "        'validation': 25250,\n",
              "    },\n",
              "    supervised_keys=('image', 'label'),\n",
              "    citation=\"\"\"@inproceedings{bossard14,\n",
              "      title = {Food-101 -- Mining Discriminative Components with Random Forests},\n",
              "      author = {Bossard, Lukas and Guillaumin, Matthieu and Van Gool, Luc},\n",
              "      booktitle = {European Conference on Computer Vision},\n",
              "      year = {2014}\n",
              "    }\"\"\",\n",
              "    redistribution_info=,\n",
              ")"
            ]
          },
          "metadata": {
            "tags": []
          },
          "execution_count": 7
        }
      ]
    },
    {
      "cell_type": "code",
      "metadata": {
        "id": "Tb_AwGxfSWk5",
        "colab": {
          "base_uri": "https://localhost:8080/"
        },
        "outputId": "d3f19893-919b-4027-884b-289ba4b32822"
      },
      "source": [
        "info.features"
      ],
      "execution_count": 8,
      "outputs": [
        {
          "output_type": "execute_result",
          "data": {
            "text/plain": [
              "FeaturesDict({\n",
              "    'image': Image(shape=(None, None, 3), dtype=tf.uint8),\n",
              "    'label': ClassLabel(shape=(), dtype=tf.int64, num_classes=101),\n",
              "})"
            ]
          },
          "metadata": {
            "tags": []
          },
          "execution_count": 8
        }
      ]
    },
    {
      "cell_type": "code",
      "metadata": {
        "id": "NDg1KTCGVCYu"
      },
      "source": [
        "classLabels = info.features[\"label\"].names"
      ],
      "execution_count": 9,
      "outputs": []
    },
    {
      "cell_type": "code",
      "metadata": {
        "id": "5l-rO7w4VeAW",
        "colab": {
          "base_uri": "https://localhost:8080/"
        },
        "outputId": "28651d54-fe3d-4864-9bed-e4b0021060d0"
      },
      "source": [
        "classLabels[:5]"
      ],
      "execution_count": 10,
      "outputs": [
        {
          "output_type": "execute_result",
          "data": {
            "text/plain": [
              "['apple_pie', 'baby_back_ribs', 'baklava', 'beef_carpaccio', 'beef_tartare']"
            ]
          },
          "metadata": {
            "tags": []
          },
          "execution_count": 10
        }
      ]
    },
    {
      "cell_type": "code",
      "metadata": {
        "id": "zwM16Dk8WeDA"
      },
      "source": [
        "for image, label in train_ds.take(1):\n",
        "  break"
      ],
      "execution_count": 11,
      "outputs": []
    },
    {
      "cell_type": "code",
      "metadata": {
        "id": "xEUHHVl8W3RK",
        "colab": {
          "base_uri": "https://localhost:8080/",
          "height": 1000
        },
        "outputId": "c3816b63-c30d-4701-a9cd-f66512c4a396"
      },
      "source": [
        "print(f\"image dtype {image.dtype}\")\n",
        "print(f\"raw image shape {image.shape}\")\n",
        "print(f\"type {type(image)}\")\n",
        "print(image)\n",
        "print(\"image\")\n",
        "plt.imshow(image)"
      ],
      "execution_count": 12,
      "outputs": [
        {
          "output_type": "stream",
          "text": [
            "image dtype <dtype: 'uint8'>\n",
            "raw image shape (512, 512, 3)\n",
            "type <class 'tensorflow.python.framework.ops.EagerTensor'>\n",
            "tf.Tensor(\n",
            "[[[233 253 251]\n",
            "  [231 253 250]\n",
            "  [228 254 251]\n",
            "  ...\n",
            "  [ 85  82  89]\n",
            "  [ 68  67  75]\n",
            "  [ 57  57  67]]\n",
            "\n",
            " [[232 254 252]\n",
            "  [229 254 251]\n",
            "  [226 255 251]\n",
            "  ...\n",
            "  [121 116 120]\n",
            "  [100  99 104]\n",
            "  [ 86  85  91]]\n",
            "\n",
            " [[228 254 253]\n",
            "  [226 255 253]\n",
            "  [223 255 252]\n",
            "  ...\n",
            "  [164 159 155]\n",
            "  [145 141 138]\n",
            "  [128 127 125]]\n",
            "\n",
            " ...\n",
            "\n",
            " [[ 66 112 164]\n",
            "  [ 67 113 163]\n",
            "  [ 55  99 148]\n",
            "  ...\n",
            "  [  5  14  23]\n",
            "  [  9  18  27]\n",
            "  [  8  17  26]]\n",
            "\n",
            " [[ 76 123 177]\n",
            "  [ 75 122 176]\n",
            "  [ 70 116 168]\n",
            "  ...\n",
            "  [  5  14  23]\n",
            "  [  9  18  25]\n",
            "  [  7  16  23]]\n",
            "\n",
            " [[ 80 129 185]\n",
            "  [ 71 121 174]\n",
            "  [ 74 121 175]\n",
            "  ...\n",
            "  [  7  16  25]\n",
            "  [ 11  20  27]\n",
            "  [ 10  19  26]]], shape=(512, 512, 3), dtype=uint8)\n",
            "image\n"
          ],
          "name": "stdout"
        },
        {
          "output_type": "execute_result",
          "data": {
            "text/plain": [
              "<matplotlib.image.AxesImage at 0x7f99e7c80250>"
            ]
          },
          "metadata": {
            "tags": []
          },
          "execution_count": 12
        },
        {
          "output_type": "display_data",
          "data": {
            "image/png": "[encoded data removed]",
            "text/plain": [
              "<Figure size 432x288 with 1 Axes>"
            ]
          },
          "metadata": {
            "tags": [],
            "needs_background": "light"
          }
        }
      ]
    },
    {
      "cell_type": "markdown",
      "metadata": {
        "id": "c0yeFjhnR2IQ"
      },
      "source": [
        "## **3.Helpfull functions**"
      ]
    },
    {
      "cell_type": "code",
      "metadata": {
        "id": "tmeBlENOR-uI"
      },
      "source": [
        "def pad_image(img, label):\n",
        "  \"\"\" takes 3D array as input pad it square \n",
        "  to its maximum dimenshions\n",
        "  zero to right or botome \"\"\"\n",
        "  sh = tf.shape(img, out_type=tf.dtypes.int32, name=None)\n",
        "  (x,y,z) = tuple(sh)\n",
        "  x = int(x)\n",
        "  y = int(y)\n",
        "\n",
        "  max_side = max(x,y)\n",
        "  pad_width =tf.constant([(0,(max_side-x)),(0,(max_side-y)),(0,0)])\n",
        "  image = tf.pad(img,pad_width, 'constant', constant_values=0)\n",
        "  image = tf.image.resize(image, [224, 224])\n",
        "  image = tf.cast(image, tf.float32)\n",
        "\n",
        "  return image, label\n",
        "\n",
        "# Data augmentation layer\n",
        "augmentation=Sequential([\n",
        "                         #tf.keras.layers.InputLayer(),\n",
        "                         layers.experimental.preprocessing.RandomFlip(\"horizontal_and_vertical\"),\n",
        "                         layers.experimental.preprocessing.RandomRotation(0.2),])\n",
        "\n",
        "# augment function\n",
        "def augment(image_batch, label_batch):\n",
        "  #image_batch = preprocessing.Rescaling(1./255)(image_batch)\n",
        "  image_batch = augmentation(image_batch, training=True)\n",
        "  \n",
        "  return image_batch, label_batch\n",
        "\n",
        "# Map Funtion\n",
        "def map_funct1(image, label):\n",
        "  \n",
        "  image = tf.image.resize(image, [224, 224])\n",
        "  image = tf.cast(image, tf.float32)\n",
        "  return image, label\n",
        "\n",
        "def map_funct2(image, label):\n",
        "  \n",
        "  image = tf.image.resize_with_pad(image, 224, 224)\n",
        "  image = tf.cast(image, tf.float32)\n",
        "  return image, label"
      ],
      "execution_count": 13,
      "outputs": []
    },
    {
      "cell_type": "code",
      "metadata": {
        "id": "msuOv74G7Rlw"
      },
      "source": [
        "def dataset(train_ds = train_ds, test_ds=test_ds, batch_size =32, augmetation= False, padding = False):\n",
        "  \n",
        "  if padding:\n",
        "    map_funct = map_funct2\n",
        "  else:\n",
        "    map_funct = map_funct1\n",
        "  \n",
        "\n",
        "  # Train DataSet\n",
        "  train_dataset = train_ds.map(map_func=map_funct, num_parallel_calls=tf.data.AUTOTUNE)\n",
        "  train_dataset = train_dataset.shuffle(1000).batch(batch_size).prefetch(buffer_size=tf.data.AUTOTUNE)\n",
        "  if augmetation:\n",
        "    train_dataset = train_dataset.map(augment, num_parallel_calls=tf.data.AUTOTUNE)\n",
        "\n",
        "  # Test Dataset\n",
        "  test_dataset = test_ds.map(map_func=map_funct, num_parallel_calls=tf.data.AUTOTUNE)\n",
        "  test_dataset = test_dataset.shuffle(1000).batch(batch_size).prefetch(buffer_size=tf.data.AUTOTUNE)\n",
        "\n",
        "  return train_dataset, test_dataset\n"
      ],
      "execution_count": 23,
      "outputs": []
    },
    {
      "cell_type": "markdown",
      "metadata": {
        "id": "lSlZOo1BTwcs"
      },
      "source": [
        "## **4. Data Pipeline**"
      ]
    },
    {
      "cell_type": "code",
      "metadata": {
        "id": "gZnwqh2O7g3f"
      },
      "source": [
        "# Important variables\n",
        "batch_size = 32\n",
        "shape = (224, 224, 3)"
      ],
      "execution_count": 16,
      "outputs": []
    },
    {
      "cell_type": "code",
      "metadata": {
        "id": "a093deabScCK"
      },
      "source": [
        "train_dataset, test_dataset = dataset(batch_size= batch_size)\n"
      ],
      "execution_count": 24,
      "outputs": []
    },
    {
      "cell_type": "code",
      "metadata": {
        "id": "c13Ld0XA7klf",
        "colab": {
          "base_uri": "https://localhost:8080/",
          "height": 1000
        },
        "outputId": "55029529-e24a-40ad-a471-aceeb12c32ec"
      },
      "source": [
        "for images, labels in train_dataset.take(1):\n",
        "  for image in images:\n",
        "    print(f\"image shape {image.shape}\")\n",
        "    print(f\"image dtype {image.dtype}\")\n",
        "    print(f\"image {image}\")\n",
        "    plt.imshow(image)\n",
        "    break"
      ],
      "execution_count": 25,
      "outputs": [
        {
          "output_type": "stream",
          "text": [
            "WARNING:matplotlib.image:Clipping input data to the valid range for imshow with RGB data ([0..1] for floats or [0..255] for integers).\n"
          ],
          "name": "stderr"
        },
        {
          "output_type": "stream",
          "text": [
            "image shape (224, 224, 3)\n",
            "image dtype <dtype: 'float32'>\n",
            "image [[[254. 254. 254.]\n",
            "  [254. 254. 254.]\n",
            "  [254. 254. 254.]\n",
            "  ...\n",
            "  [254. 254. 254.]\n",
            "  [254. 254. 254.]\n",
            "  [254. 254. 254.]]\n",
            "\n",
            " [[254. 254. 254.]\n",
            "  [254. 254. 254.]\n",
            "  [254. 254. 254.]\n",
            "  ...\n",
            "  [254. 254. 254.]\n",
            "  [254. 254. 254.]\n",
            "  [254. 254. 254.]]\n",
            "\n",
            " [[254. 254. 254.]\n",
            "  [254. 254. 254.]\n",
            "  [254. 254. 254.]\n",
            "  ...\n",
            "  [254. 254. 254.]\n",
            "  [254. 254. 254.]\n",
            "  [254. 254. 254.]]\n",
            "\n",
            " ...\n",
            "\n",
            " [[254. 254. 254.]\n",
            "  [254. 254. 254.]\n",
            "  [254. 254. 254.]\n",
            "  ...\n",
            "  [254. 254. 254.]\n",
            "  [254. 254. 254.]\n",
            "  [254. 254. 254.]]\n",
            "\n",
            " [[254. 254. 254.]\n",
            "  [254. 254. 254.]\n",
            "  [254. 254. 254.]\n",
            "  ...\n",
            "  [254. 254. 254.]\n",
            "  [254. 254. 254.]\n",
            "  [254. 254. 254.]]\n",
            "\n",
            " [[254. 254. 254.]\n",
            "  [254. 254. 254.]\n",
            "  [254. 254. 254.]\n",
            "  ...\n",
            "  [254. 254. 254.]\n",
            "  [254. 254. 254.]\n",
            "  [254. 254. 254.]]]\n"
          ],
          "name": "stdout"
        },
        {
          "output_type": "display_data",
          "data": {
            "image/png": "[encoded data removed]",
            "text/plain": [
              "<Figure size 432x288 with 1 Axes>"
            ]
          },
          "metadata": {
            "tags": [],
            "needs_background": "light"
          }
        }
      ]
    },
    {
      "cell_type": "markdown",
      "metadata": {
        "id": "bKrW9qYy9XaT"
      },
      "source": [
        "## **5. Setting Callback**"
      ]
    },
    {
      "cell_type": "code",
      "metadata": {
        "id": "_Cd5FMcd9Wg7"
      },
      "source": [
        "es = EarlyStopping(monitor='val_loss', patience=12, mode='min')\n",
        "filepath='/content/drive/MyDrive/model/food101.h5'\n",
        "md = ModelCheckpoint(filepath, monitor='val_loss', \n",
        "verbose=1, save_best_only=True, save_weights_only=False, mode='min')\n",
        "\n",
        "log_dir = \"logs/fit/\" + datetime.datetime.now().strftime(\"%Y%m%d-%H%M%S\")\n",
        "tb = TensorBoard(log_dir=log_dir, histogram_freq=1)\n",
        "lr = 0.001\n",
        "def scheduler(epoch):\n",
        "  lr2 = lr\n",
        "  if epoch < 10:\n",
        "    lr2 = lr2/10\n",
        "  return lr2\n",
        "\n",
        "lrs = LearningRateScheduler(scheduler)\n",
        "\n",
        "sgd = SGD(learning_rate=0.001)\n",
        "adam = Adam(learning_rate=lr)"
      ],
      "execution_count": 26,
      "outputs": []
    },
    {
      "cell_type": "markdown",
      "metadata": {
        "id": "Aiax5sr8HB0i"
      },
      "source": [
        "## **6. Buildind Model**"
      ]
    },
    {
      "cell_type": "code",
      "metadata": {
        "id": "skOjECRxFHYy",
        "colab": {
          "base_uri": "https://localhost:8080/"
        },
        "outputId": "caefca19-9a4f-420d-c58d-85007d8d154a"
      },
      "source": [
        "# seting up base model\n",
        "base_model = tf.keras.applications.EfficientNetB0(include_top=False, weights=\"imagenet\")\n",
        "base_model.trainable = False"
      ],
      "execution_count": 18,
      "outputs": [
        {
          "output_type": "stream",
          "text": [
            "Downloading data from https://storage.googleapis.com/keras-applications/efficientnetb0_notop.h5\n",
            "16711680/16705208 [==============================] - 0s 0us/step\n"
          ],
          "name": "stdout"
        }
      ]
    },
    {
      "cell_type": "code",
      "metadata": {
        "id": "jTO0vMHJHGpC",
        "colab": {
          "base_uri": "https://localhost:8080/"
        },
        "outputId": "bc29b4a2-f26e-484b-f7d5-466dd8de094e"
      },
      "source": [
        "# Turn on mixed precision training\n",
        "mixed_precision.set_global_policy(policy=\"mixed_float16\")\n",
        "mixed_precision.global_policy()"
      ],
      "execution_count": 19,
      "outputs": [
        {
          "output_type": "stream",
          "text": [
            "INFO:tensorflow:Mixed precision compatibility check (mixed_float16): OK\n",
            "Your GPU will likely run quickly with dtype policy mixed_float16 as it has compute capability of at least 7.0. Your GPU: Tesla T4, compute capability 7.5\n"
          ],
          "name": "stdout"
        },
        {
          "output_type": "stream",
          "text": [
            "INFO:tensorflow:Mixed precision compatibility check (mixed_float16): OK\n",
            "Your GPU will likely run quickly with dtype policy mixed_float16 as it has compute capability of at least 7.0. Your GPU: Tesla T4, compute capability 7.5\n"
          ],
          "name": "stderr"
        },
        {
          "output_type": "execute_result",
          "data": {
            "text/plain": [
              "<Policy \"mixed_float16\">"
            ]
          },
          "metadata": {
            "tags": []
          },
          "execution_count": 19
        }
      ]
    },
    {
      "cell_type": "code",
      "metadata": {
        "id": "ESezjBl9HkH0",
        "colab": {
          "base_uri": "https://localhost:8080/"
        },
        "outputId": "981aa7fc-9d8b-4ce7-cf07-f042a6b34396"
      },
      "source": [
        "\n",
        "# building model architecture\n",
        "\n",
        "input = Input(shape=shape, name=\"input\")\n",
        "#x = preprocessing.Rescaling(1./255)(i)\n",
        "#x = tf.keras.applications.resnet.preprocess_input(input)\n",
        "x = base_model(input, training=False)\n",
        "x = GlobalAveragePooling2D(name=\"pooling\")(x)\n",
        "x = Dense(101, name=\"output_layer\")(x)\n",
        "outputs = layers.Activation(\"softmax\", dtype=tf.float32, name=\"predictions\")(x) \n",
        "model = Model(input, outputs)\n",
        "\n",
        "# Compile the model\n",
        "model.compile(loss=\"sparse_categorical_crossentropy\",\n",
        "              optimizer=adam,\n",
        "              metrics=[\"accuracy\"])\n",
        "model.summary()"
      ],
      "execution_count": 27,
      "outputs": [
        {
          "output_type": "stream",
          "text": [
            "Model: \"model_1\"\n",
            "_________________________________________________________________\n",
            "Layer (type)                 Output Shape              Param #   \n",
            "=================================================================\n",
            "input (InputLayer)           [(None, 224, 224, 3)]     0         \n",
            "_________________________________________________________________\n",
            "efficientnetb0 (Functional)  (None, None, None, 1280)  4049571   \n",
            "_________________________________________________________________\n",
            "pooling (GlobalAveragePoolin (None, 1280)              0         \n",
            "_________________________________________________________________\n",
            "output_layer (Dense)         (None, 101)               129381    \n",
            "_________________________________________________________________\n",
            "predictions (Activation)     (None, 101)               0         \n",
            "=================================================================\n",
            "Total params: 4,178,952\n",
            "Trainable params: 129,381\n",
            "Non-trainable params: 4,049,571\n",
            "_________________________________________________________________\n"
          ],
          "name": "stdout"
        }
      ]
    },
    {
      "cell_type": "code",
      "metadata": {
        "id": "xaFU58bAg8zI"
      },
      "source": [
        "rm -rf ./logs"
      ],
      "execution_count": 28,
      "outputs": []
    },
    {
      "cell_type": "code",
      "metadata": {
        "id": "pkN93uD7HyhL",
        "colab": {
          "base_uri": "https://localhost:8080/"
        },
        "outputId": "16a3a78f-5819-4dad-c770-c0f381875155"
      },
      "source": [
        "model_history = model.fit(train_dataset,\n",
        "                            epochs=4,  \n",
        "                            verbose=1, \n",
        "                            callbacks=[tb, md, es],\n",
        "                            steps_per_epoch=len(train_dataset), \n",
        "                            validation_data=test_dataset, \n",
        "                            validation_steps=(0.2*len(test_dataset)))"
      ],
      "execution_count": 29,
      "outputs": [
        {
          "output_type": "stream",
          "text": [
            "/usr/local/lib/python3.7/dist-packages/tensorflow/python/keras/utils/generic_utils.py:497: CustomMaskWarning: Custom mask layers require a config and must override get_config. When loading, the custom mask layer must be passed to the custom_objects argument.\n",
            "  category=CustomMaskWarning)\n"
          ],
          "name": "stderr"
        },
        {
          "output_type": "stream",
          "text": [
            "Epoch 1/4\n",
            "2368/2368 [==============================] - 262s 95ms/step - loss: 1.8218 - accuracy: 0.5565 - val_loss: 1.2429 - val_accuracy: 0.6709\n",
            "\n",
            "Epoch 00001: val_loss improved from inf to 1.24290, saving model to /content/drive/MyDrive/model/food101.h5\n",
            "Epoch 2/4\n",
            "2368/2368 [==============================] - 218s 91ms/step - loss: 1.2951 - accuracy: 0.6658 - val_loss: 1.1420 - val_accuracy: 0.6930\n",
            "\n",
            "Epoch 00002: val_loss improved from 1.24290 to 1.14203, saving model to /content/drive/MyDrive/model/food101.h5\n",
            "Epoch 3/4\n",
            "2368/2368 [==============================] - 195s 81ms/step - loss: 1.1456 - accuracy: 0.7016 - val_loss: 1.1067 - val_accuracy: 0.7025\n",
            "\n",
            "Epoch 00003: val_loss improved from 1.14203 to 1.10670, saving model to /content/drive/MyDrive/model/food101.h5\n",
            "Epoch 4/4\n",
            "2368/2368 [==============================] - 194s 81ms/step - loss: 1.0474 - accuracy: 0.7261 - val_loss: 1.0920 - val_accuracy: 0.7041\n",
            "\n",
            "Epoch 00004: val_loss improved from 1.10670 to 1.09199, saving model to /content/drive/MyDrive/model/food101.h5\n"
          ],
          "name": "stdout"
        }
      ]
    },
    {
      "cell_type": "markdown",
      "metadata": {
        "id": "HrE_H9c90w3P"
      },
      "source": [
        "## **7. Fine Tuning Stage I**"
      ]
    },
    {
      "cell_type": "code",
      "metadata": {
        "id": "B09sWwxvvfjW"
      },
      "source": [
        "model = tf.keras.models.load_model('/content/drive/MyDrive/model/food101.h5')"
      ],
      "execution_count": 30,
      "outputs": []
    },
    {
      "cell_type": "code",
      "metadata": {
        "id": "wSuOb-c4kkRA",
        "colab": {
          "base_uri": "https://localhost:8080/"
        },
        "outputId": "963ed1be-a7bb-4df2-a380-ecb0b6fe8275"
      },
      "source": [
        "for layer in model.layers:\n",
        "  layer.trainable = True\n",
        "  print(layer.name, layer.trainable, layer.dtype, layer.dtype_policy)"
      ],
      "execution_count": 31,
      "outputs": [
        {
          "output_type": "stream",
          "text": [
            "input True float32 <Policy \"float32\">\n",
            "efficientnetb0 True float32 <Policy \"mixed_float16\">\n",
            "pooling True float32 <Policy \"mixed_float16\">\n",
            "output_layer True float32 <Policy \"mixed_float16\">\n",
            "predictions True float32 <Policy \"float32\">\n"
          ],
          "name": "stdout"
        }
      ]
    },
    {
      "cell_type": "markdown",
      "metadata": {
        "id": "fMXIbHj9lGBf"
      },
      "source": [
        "###### **CallBack II**"
      ]
    },
    {
      "cell_type": "code",
      "metadata": {
        "id": "BJ2UL72MtXAg"
      },
      "source": [
        "es = EarlyStopping(monitor='val_loss', patience=3)\n",
        "filepathft='/content/drive/MyDrive/model/FT_food101.h5'\n",
        "md = ModelCheckpoint(filepathft, monitor='val_loss', \n",
        "                     verbose=1, save_best_only=True, save_weights_only=False, mode='min')\n",
        "\n",
        "\n",
        "lr =  0.0001\n",
        "def scheduler(epoch):\n",
        "  lr2 =  lr\n",
        "  if epoch < 2:\n",
        "    return lr2\n",
        "  else:\n",
        "    for i in range(epoch-1):\n",
        "      lr2 = lr2 - 0.000001\n",
        "    return lr2\n",
        "# Creating learning rate reduction callback\n",
        "rlr = tf.keras.callbacks.ReduceLROnPlateau(monitor=\"val_loss\",  \n",
        "                                                 factor=0.2, \n",
        "                                                 patience=2,\n",
        "                                                 verbose=1,\n",
        "                                                 min_lr=1e-7)\n",
        "\n",
        "lrs = LearningRateScheduler(scheduler)\n",
        "log_dir = \"logsFT/fit/\" + datetime.datetime.now().strftime(\"%Y%m%d-%H%M%S\")\n",
        "tb = TensorBoard(log_dir=log_dir, histogram_freq=1)\n",
        "sgd = SGD(learning_rate=0.00001)\n",
        "adam = Adam(learning_rate=lr) \n"
      ],
      "execution_count": 33,
      "outputs": []
    },
    {
      "cell_type": "code",
      "metadata": {
        "id": "K1PvlG-Y7RDv",
        "colab": {
          "base_uri": "https://localhost:8080/"
        },
        "outputId": "7737b98f-4ccd-42c0-cb25-f022e9c5bd1c"
      },
      "source": [
        "#base_model.trainable = True\n",
        "model.compile(loss=\"sparse_categorical_crossentropy\",\n",
        "              optimizer=adam,\n",
        "              metrics=[\"accuracy\"])\n",
        "model.summary()"
      ],
      "execution_count": 35,
      "outputs": [
        {
          "output_type": "stream",
          "text": [
            "Model: \"model_1\"\n",
            "_________________________________________________________________\n",
            "Layer (type)                 Output Shape              Param #   \n",
            "=================================================================\n",
            "input (InputLayer)           [(None, 224, 224, 3)]     0         \n",
            "_________________________________________________________________\n",
            "efficientnetb0 (Functional)  (None, None, None, 1280)  4049571   \n",
            "_________________________________________________________________\n",
            "pooling (GlobalAveragePoolin (None, 1280)              0         \n",
            "_________________________________________________________________\n",
            "output_layer (Dense)         (None, 101)               129381    \n",
            "_________________________________________________________________\n",
            "predictions (Activation)     (None, 101)               0         \n",
            "=================================================================\n",
            "Total params: 4,178,952\n",
            "Trainable params: 4,136,929\n",
            "Non-trainable params: 42,023\n",
            "_________________________________________________________________\n"
          ],
          "name": "stdout"
        }
      ]
    },
    {
      "cell_type": "code",
      "metadata": {
        "id": "p7QWe2Kx7cLC"
      },
      "source": [
        "rm -rf ./logsFT"
      ],
      "execution_count": 36,
      "outputs": []
    },
    {
      "cell_type": "code",
      "metadata": {
        "id": "K_Hz8GEB7bCD",
        "colab": {
          "base_uri": "https://localhost:8080/"
        },
        "outputId": "c435447b-2a13-49cc-a16d-a28b20b93b69"
      },
      "source": [
        "model_history = model.fit(train_dataset,\n",
        "                            epochs=7,  \n",
        "                            verbose=1, \n",
        "                            callbacks=[tb, es, md, rlr],\n",
        "                            steps_per_epoch=len(train_dataset), \n",
        "                            validation_data=test_dataset, \n",
        "                            validation_steps=(0.2*len(test_dataset)))"
      ],
      "execution_count": 38,
      "outputs": [
        {
          "output_type": "stream",
          "text": [
            "/usr/local/lib/python3.7/dist-packages/tensorflow/python/keras/utils/generic_utils.py:497: CustomMaskWarning: Custom mask layers require a config and must override get_config. When loading, the custom mask layer must be passed to the custom_objects argument.\n",
            "  category=CustomMaskWarning)\n"
          ],
          "name": "stderr"
        },
        {
          "output_type": "stream",
          "text": [
            "Epoch 1/3\n",
            "2368/2368 [==============================] - 843s 349ms/step - loss: 0.8837 - accuracy: 0.7618 - val_loss: 0.8658 - val_accuracy: 0.7587\n",
            "\n",
            "Epoch 00001: val_loss improved from inf to 0.86580, saving model to /content/drive/MyDrive/model/FT_food101.h5\n",
            "Epoch 2/3\n",
            "2368/2368 [==============================] - 815s 343ms/step - loss: 0.5370 - accuracy: 0.8512 - val_loss: 0.8735 - val_accuracy: 0.7698\n",
            "\n",
            "Epoch 00002: val_loss did not improve from 0.86580\n",
            "Epoch 3/3\n",
            "2368/2368 [==============================] - 816s 344ms/step - loss: 0.2925 - accuracy: 0.9183 - val_loss: 0.9681 - val_accuracy: 0.7712\n",
            "\n",
            "Epoch 00003: val_loss did not improve from 0.86580\n",
            "\n",
            "Epoch 00003: ReduceLROnPlateau reducing learning rate to 1.9999999494757503e-05.\n"
          ],
          "name": "stdout"
        }
      ]
    },
    {
      "cell_type": "code",
      "metadata": {
        "colab": {
          "base_uri": "https://localhost:8080/"
        },
        "id": "jW6ythIMpUy6",
        "outputId": "690b2609-5bb0-4ece-f66b-fcabae91d62d"
      },
      "source": [
        "# loading best model\n",
        "model = tf.keras.models.load_model(filepathft)\n",
        "# model evaluating\n",
        "\n",
        "pred = model.evaluate(test_dataset)"
      ],
      "execution_count": 48,
      "outputs": [
        {
          "output_type": "stream",
          "text": [
            "790/790 [==============================] - 76s 88ms/step - loss: 0.8661 - accuracy: 0.7595\n"
          ],
          "name": "stdout"
        }
      ]
    },
    {
      "cell_type": "code",
      "metadata": {
        "colab": {
          "base_uri": "https://localhost:8080/",
          "height": 839
        },
        "id": "KPhF-uCJcY5u",
        "outputId": "6d957d8b-9215-4bc1-b711-1793468a02fd"
      },
      "source": [
        "%tensorboard --logdir logsFT/fit"
      ],
      "execution_count": 47,
      "outputs": [
        {
          "output_type": "display_data",
          "data": {
            "text/plain": [
              "Reusing TensorBoard on port 6006 (pid 2900), started 0:09:27 ago. (Use '!kill 2900' to kill it.)"
            ]
          },
          "metadata": {
            "tags": []
          }
        },
        {
          "output_type": "display_data",
          "data": {
            "application/javascript": [
              "\n",
              "        (async () => {\n",
              "            const url = new URL(await google.colab.kernel.proxyPort(6006, {'cache': true}));\n",
              "            url.searchParams.set('tensorboardColab', 'true');\n",
              "            const iframe = document.createElement('iframe');\n",
              "            iframe.src = url;\n",
              "            iframe.setAttribute('width', '100%');\n",
              "            iframe.setAttribute('height', '800');\n",
              "            iframe.setAttribute('frameborder', 0);\n",
              "            document.body.appendChild(iframe);\n",
              "        })();\n",
              "    "
            ],
            "text/plain": [
              "<IPython.core.display.Javascript object>"
            ]
          },
          "metadata": {
            "tags": []
          }
        }
      ]
    },
    {
      "cell_type": "markdown",
      "metadata": {
        "id": "fmvzy-3N1D4_"
      },
      "source": [
        "## **8. Fine Tuning Stage II**"
      ]
    },
    {
      "cell_type": "markdown",
      "metadata": {
        "id": "df13iDdf1UgB"
      },
      "source": [
        "###### **CallBack III**"
      ]
    },
    {
      "cell_type": "code",
      "metadata": {
        "id": "ERufZG9idBYS"
      },
      "source": [
        "\n",
        "es = EarlyStopping(monitor='val_loss', patience=3)\n",
        "filepathft='/content/drive/MyDrive/model/FT2_food101.h5'\n",
        "md = ModelCheckpoint(filepathft, monitor='val_loss', \n",
        "                     verbose=1, save_best_only=True, save_weights_only=False, mode='min')\n",
        "\n",
        "\n",
        "lr =  0.0001\n",
        "def scheduler(epoch):\n",
        "  lr2 =  lr\n",
        "  if epoch < 2:\n",
        "    return lr2\n",
        "  else:\n",
        "    for i in range(epoch-1):\n",
        "      lr2 = lr2 - 0.000001\n",
        "    return lr2\n",
        "# Creating learning rate reduction callback\n",
        "rlr = tf.keras.callbacks.ReduceLROnPlateau(monitor=\"val_loss\",  \n",
        "                                                 factor=0.2, \n",
        "                                                 patience=2,\n",
        "                                                 verbose=1,\n",
        "                                                 min_lr=1e-7)\n",
        "\n",
        "lrs = LearningRateScheduler(scheduler)\n",
        "log_dir = \"logsFT/fit/\" + datetime.datetime.now().strftime(\"%Y%m%d-%H%M%S\")\n",
        "tb = TensorBoard(log_dir=log_dir, histogram_freq=1)\n",
        "sgd = SGD(learning_rate=0.00001)\n",
        "adam = Adam(learning_rate=lr) \n"
      ],
      "execution_count": 49,
      "outputs": []
    },
    {
      "cell_type": "code",
      "metadata": {
        "id": "vK-lx0J9hyTX"
      },
      "source": [
        "train_dataset, test_dataset = dataset(batch_size= batch_size, augmetation=True, padding=True)"
      ],
      "execution_count": 50,
      "outputs": []
    },
    {
      "cell_type": "code",
      "metadata": {
        "colab": {
          "base_uri": "https://localhost:8080/"
        },
        "id": "ZlsuKxGOidAN",
        "outputId": "4a1306fa-74d7-4c64-e852-d9dace4e8ce4"
      },
      "source": [
        "model_history = model.fit(train_dataset,\n",
        "                            epochs=7,  \n",
        "                            verbose=1, \n",
        "                            callbacks=[tb, es, md, rlr],\n",
        "                            steps_per_epoch=len(train_dataset), \n",
        "                            validation_data=test_dataset, \n",
        "                            validation_steps=(0.2*len(test_dataset)))"
      ],
      "execution_count": 51,
      "outputs": [
        {
          "output_type": "stream",
          "text": [
            "/usr/local/lib/python3.7/dist-packages/tensorflow/python/keras/utils/generic_utils.py:497: CustomMaskWarning: Custom mask layers require a config and must override get_config. When loading, the custom mask layer must be passed to the custom_objects argument.\n",
            "  category=CustomMaskWarning)\n"
          ],
          "name": "stderr"
        },
        {
          "output_type": "stream",
          "text": [
            "Epoch 1/7\n",
            "2368/2368 [==============================] - 898s 372ms/step - loss: 1.0006 - accuracy: 0.7263 - val_loss: 0.8396 - val_accuracy: 0.7710\n",
            "\n",
            "Epoch 00001: val_loss improved from inf to 0.83962, saving model to /content/drive/MyDrive/model/FT2_food101.h5\n",
            "Epoch 2/7\n",
            "2368/2368 [==============================] - 888s 371ms/step - loss: 0.7815 - accuracy: 0.7811 - val_loss: 0.8558 - val_accuracy: 0.7731\n",
            "\n",
            "Epoch 00002: val_loss did not improve from 0.83962\n",
            "Epoch 3/7\n",
            "2368/2368 [==============================] - 878s 370ms/step - loss: 0.6374 - accuracy: 0.8176 - val_loss: 0.8794 - val_accuracy: 0.7617\n",
            "\n",
            "Epoch 00003: val_loss did not improve from 0.83962\n",
            "\n",
            "Epoch 00003: ReduceLROnPlateau reducing learning rate to 1.9999999494757503e-05.\n",
            "Epoch 4/7\n",
            "2368/2368 [==============================] - 879s 370ms/step - loss: 0.3977 - accuracy: 0.8863 - val_loss: 0.8695 - val_accuracy: 0.7749\n",
            "\n",
            "Epoch 00004: val_loss did not improve from 0.83962\n"
          ],
          "name": "stdout"
        }
      ]
    },
    {
      "cell_type": "code",
      "metadata": {
        "colab": {
          "base_uri": "https://localhost:8080/"
        },
        "id": "XT9ZKxTPdAZv",
        "outputId": "c0f8bcbb-8892-4206-f587-2551dd386c5a"
      },
      "source": [
        "path='/content/drive/MyDrive/model/FT2_food101.h5'\n",
        "model.save(path)"
      ],
      "execution_count": 52,
      "outputs": [
        {
          "output_type": "stream",
          "text": [
            "/usr/local/lib/python3.7/dist-packages/tensorflow/python/keras/utils/generic_utils.py:497: CustomMaskWarning: Custom mask layers require a config and must override get_config. When loading, the custom mask layer must be passed to the custom_objects argument.\n",
            "  category=CustomMaskWarning)\n"
          ],
          "name": "stderr"
        }
      ]
    },
    {
      "cell_type": "code",
      "metadata": {
        "id": "P0_KzGpTsxF3"
      },
      "source": [
        "model = tf.keras.models.load_model(path)"
      ],
      "execution_count": null,
      "outputs": []
    },
    {
      "cell_type": "code",
      "metadata": {
        "id": "FA-spjK-Smpg",
        "colab": {
          "base_uri": "https://localhost:8080/"
        },
        "outputId": "79e838f6-4631-4380-da4a-9772f83a42a0"
      },
      "source": [
        "pred = model.evaluate(test_dataset)"
      ],
      "execution_count": 53,
      "outputs": [
        {
          "output_type": "stream",
          "text": [
            "790/790 [==============================] - 68s 83ms/step - loss: 0.8801 - accuracy: 0.7809\n"
          ],
          "name": "stdout"
        }
      ]
    },
    {
      "cell_type": "code",
      "metadata": {
        "id": "E7OjBm5R6l_l"
      },
      "source": [
        ""
      ],
      "execution_count": null,
      "outputs": []
    }
  ]
}